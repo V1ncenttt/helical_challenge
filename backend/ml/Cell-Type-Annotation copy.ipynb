{
 "cells": [
  {
   "cell_type": "markdown",
   "metadata": {
    "id": "yXsc6JTIw0HX"
   },
   "source": [
    "# Cell type annotation prediction\n",
    "\n",
    "Run this notebook on google colab to use a free GPU!\n",
    "\n",
    "[![Open In Colab](https://colab.research.google.com/assets/colab-badge.svg)](https://colab.research.google.com/github/helicalAI/helical/blob/main/examples/notebooks/Cell-Type-Annotation.ipynb)\n",
    "\n",
    "In this notebook, an [scGPT](https://www.nature.com/articles/s41592-024-02201-0) model is used to predict a cell type annotation with a given gene expression profile.\n",
    "\n",
    "This follows the tutorial from scGPT [here](https://github.com/bowang-lab/scGPT/blob/main/tutorials/Tutorial_Annotation.ipynb), but instead of fine-tuning the entire model, a smaller neural network is trained, using the embeddings of the gene expressions as inputs, to make a prediction.\n",
    "\n",
    "The same approach is made with the [Geneformer](https://www.nature.com/articles/s41586-023-06139-9.epdf?sharing_token=u_5LUGVkd3A8zR-f73lU59RgN0jAjWel9jnR3ZoTv0N2UB4yyXENUK50s6uqjXH69sDxh4Z3J4plYCKlVME-W2WSuRiS96vx6t5ex2-krVDS46JkoVvAvJyWtYXIyj74pDWn_DutZq1oAlDaxfvBpUfSKDdBPJ8SKlTId8uT47M%3D) model and the results are compared against each other.\n",
    "\n",
    "This approach greatly reduces time and complexity."
   ]
  },
  {
   "cell_type": "code",
   "execution_count": 1,
   "metadata": {
    "colab": {
     "base_uri": "https://localhost:8080/"
    },
    "id": "VVhpT3bSxAML",
    "outputId": "49cc4e8e-7599-4320-c9db-d7a35eba6f1f"
   },
   "outputs": [
    {
     "name": "stdout",
     "output_type": "stream",
     "text": [
      "Collecting helical\n",
      "  Downloading helical-1.3.0-py3-none-any.whl.metadata (54 kB)\n",
      "Collecting accelerate==1.4.0 (from helical)\n",
      "  Downloading accelerate-1.4.0-py3-none-any.whl.metadata (19 kB)\n",
      "Collecting anndata==0.11 (from helical)\n",
      "  Downloading anndata-0.11.0-py3-none-any.whl.metadata (8.2 kB)\n",
      "Collecting azure-core==1.30.1 (from helical)\n",
      "  Downloading azure_core-1.30.1-py3-none-any.whl.metadata (37 kB)\n",
      "Collecting azure-identity==1.16.1 (from helical)\n",
      "  Downloading azure_identity-1.16.1-py3-none-any.whl.metadata (77 kB)\n",
      "Collecting azure-storage-blob==12.19.1 (from helical)\n",
      "  Downloading azure_storage_blob-12.19.1-py3-none-any.whl.metadata (26 kB)\n",
      "Collecting datasets==2.20.0 (from helical)\n",
      "  Downloading datasets-2.20.0-py3-none-any.whl.metadata (19 kB)\n",
      "Collecting einops==0.8.0 (from helical)\n",
      "  Downloading einops-0.8.0-py3-none-any.whl.metadata (12 kB)\n",
      "Collecting gitpython==3.1.43 (from helical)\n",
      "  Downloading GitPython-3.1.43-py3-none-any.whl.metadata (13 kB)\n",
      "Collecting hydra-core==1.3.2 (from helical)\n",
      "  Downloading hydra_core-1.3.2-py3-none-any.whl.metadata (5.5 kB)\n",
      "Collecting loompy==3.0.7 (from helical)\n",
      "  Downloading loompy-3.0.7.tar.gz (4.8 MB)\n",
      "\u001b[2K     \u001b[90m━━━━━━━━━━━━━━━━━━━━━━━━━━━━━━━━━━━━━━━━\u001b[0m \u001b[32m4.8/4.8 MB\u001b[0m \u001b[31m18.8 MB/s\u001b[0m eta \u001b[36m0:00:00\u001b[0ma \u001b[36m0:00:01\u001b[0m\n",
      "\u001b[?25h  Preparing metadata (setup.py) ... \u001b[?25ldone\n",
      "\u001b[?25hCollecting louvain==0.8.2 (from helical)\n",
      "  Downloading louvain-0.8.2-cp310-cp310-macosx_11_0_arm64.whl.metadata (1.5 kB)\n",
      "Requirement already satisfied: numpy==1.26.4 in /Users/vincentlesang/miniconda3/envs/pythonenv/lib/python3.10/site-packages (from helical) (1.26.4)\n",
      "Collecting omegaconf==2.3.0 (from helical)\n",
      "  Downloading omegaconf-2.3.0-py3-none-any.whl.metadata (3.9 kB)\n",
      "Collecting pandas==2.2.2 (from helical)\n",
      "  Downloading pandas-2.2.2-cp310-cp310-macosx_11_0_arm64.whl.metadata (19 kB)\n",
      "Collecting pyensembl (from helical)\n",
      "  Downloading pyensembl-2.3.13-py3-none-any.whl.metadata (9.4 kB)\n",
      "Requirement already satisfied: requests>=2.32.3 in /Users/vincentlesang/miniconda3/envs/pythonenv/lib/python3.10/site-packages (from helical) (2.32.3)\n",
      "Collecting scib==1.1.5 (from helical)\n",
      "  Downloading scib-1.1.5-1-py3-none-any.whl.metadata (9.8 kB)\n",
      "Requirement already satisfied: scikit-learn>=1.5.0 in /Users/vincentlesang/miniconda3/envs/pythonenv/lib/python3.10/site-packages (from helical) (1.5.2)\n",
      "Collecting scikit-misc==0.3.1 (from helical)\n",
      "  Downloading scikit_misc-0.3.1-cp310-cp310-macosx_12_0_arm64.whl.metadata (4.9 kB)\n",
      "Collecting scipy==1.13.1 (from helical)\n",
      "  Downloading scipy-1.13.1-cp310-cp310-macosx_12_0_arm64.whl.metadata (60 kB)\n",
      "Requirement already satisfied: torch==2.6.0 in /Users/vincentlesang/miniconda3/envs/pythonenv/lib/python3.10/site-packages (from helical) (2.6.0)\n",
      "Requirement already satisfied: torchvision==0.21.0 in /Users/vincentlesang/miniconda3/envs/pythonenv/lib/python3.10/site-packages (from helical) (0.21.0)\n",
      "Collecting transformers==4.49.0 (from helical)\n",
      "  Downloading transformers-4.49.0-py3-none-any.whl.metadata (44 kB)\n",
      "Requirement already satisfied: packaging>=20.0 in /Users/vincentlesang/miniconda3/envs/pythonenv/lib/python3.10/site-packages (from accelerate==1.4.0->helical) (24.1)\n",
      "Requirement already satisfied: psutil in /Users/vincentlesang/miniconda3/envs/pythonenv/lib/python3.10/site-packages (from accelerate==1.4.0->helical) (5.9.0)\n",
      "Requirement already satisfied: pyyaml in /Users/vincentlesang/miniconda3/envs/pythonenv/lib/python3.10/site-packages (from accelerate==1.4.0->helical) (6.0.2)\n",
      "Collecting huggingface-hub>=0.21.0 (from accelerate==1.4.0->helical)\n",
      "  Downloading huggingface_hub-0.33.1-py3-none-any.whl.metadata (14 kB)\n",
      "Collecting safetensors>=0.4.3 (from accelerate==1.4.0->helical)\n",
      "  Downloading safetensors-0.5.3-cp38-abi3-macosx_11_0_arm64.whl.metadata (3.8 kB)\n",
      "Collecting array-api-compat!=1.5,>1.4 (from anndata==0.11->helical)\n",
      "  Downloading array_api_compat-1.12.0-py3-none-any.whl.metadata (2.5 kB)\n",
      "Requirement already satisfied: exceptiongroup in /Users/vincentlesang/miniconda3/envs/pythonenv/lib/python3.10/site-packages (from anndata==0.11->helical) (1.2.2)\n",
      "Requirement already satisfied: h5py>=3.6 in /Users/vincentlesang/miniconda3/envs/pythonenv/lib/python3.10/site-packages (from anndata==0.11->helical) (3.12.1)\n",
      "Collecting natsort (from anndata==0.11->helical)\n",
      "  Downloading natsort-8.4.0-py3-none-any.whl.metadata (21 kB)\n",
      "Requirement already satisfied: six>=1.11.0 in /Users/vincentlesang/miniconda3/envs/pythonenv/lib/python3.10/site-packages (from azure-core==1.30.1->helical) (1.16.0)\n",
      "Requirement already satisfied: typing-extensions>=4.6.0 in /Users/vincentlesang/miniconda3/envs/pythonenv/lib/python3.10/site-packages (from azure-core==1.30.1->helical) (4.12.2)\n",
      "Requirement already satisfied: cryptography>=2.5 in /Users/vincentlesang/miniconda3/envs/pythonenv/lib/python3.10/site-packages (from azure-identity==1.16.1->helical) (44.0.1)\n",
      "Collecting msal>=1.24.0 (from azure-identity==1.16.1->helical)\n",
      "  Downloading msal-1.32.3-py3-none-any.whl.metadata (11 kB)\n",
      "Collecting msal-extensions>=0.3.0 (from azure-identity==1.16.1->helical)\n",
      "  Downloading msal_extensions-1.3.1-py3-none-any.whl.metadata (7.8 kB)\n",
      "Collecting isodate>=0.6.1 (from azure-storage-blob==12.19.1->helical)\n",
      "  Downloading isodate-0.7.2-py3-none-any.whl.metadata (11 kB)\n",
      "Requirement already satisfied: filelock in /Users/vincentlesang/miniconda3/envs/pythonenv/lib/python3.10/site-packages (from datasets==2.20.0->helical) (3.16.1)\n",
      "Requirement already satisfied: pyarrow>=15.0.0 in /Users/vincentlesang/miniconda3/envs/pythonenv/lib/python3.10/site-packages (from datasets==2.20.0->helical) (18.0.0)\n",
      "Collecting pyarrow-hotfix (from datasets==2.20.0->helical)\n",
      "  Downloading pyarrow_hotfix-0.7-py3-none-any.whl.metadata (3.6 kB)\n",
      "Collecting dill<0.3.9,>=0.3.0 (from datasets==2.20.0->helical)\n",
      "  Downloading dill-0.3.8-py3-none-any.whl.metadata (10 kB)\n",
      "Requirement already satisfied: tqdm>=4.66.3 in /Users/vincentlesang/miniconda3/envs/pythonenv/lib/python3.10/site-packages (from datasets==2.20.0->helical) (4.67.0)\n",
      "Collecting xxhash (from datasets==2.20.0->helical)\n",
      "  Downloading xxhash-3.5.0-cp310-cp310-macosx_11_0_arm64.whl.metadata (12 kB)\n",
      "Collecting multiprocess (from datasets==2.20.0->helical)\n",
      "  Downloading multiprocess-0.70.18-py310-none-any.whl.metadata (7.5 kB)\n",
      "Collecting fsspec<=2024.5.0,>=2023.1.0 (from fsspec[http]<=2024.5.0,>=2023.1.0->datasets==2.20.0->helical)\n",
      "  Downloading fsspec-2024.5.0-py3-none-any.whl.metadata (11 kB)\n",
      "Requirement already satisfied: aiohttp in /Users/vincentlesang/miniconda3/envs/pythonenv/lib/python3.10/site-packages (from datasets==2.20.0->helical) (3.11.12)\n",
      "Requirement already satisfied: gitdb<5,>=4.0.1 in /Users/vincentlesang/miniconda3/envs/pythonenv/lib/python3.10/site-packages (from gitpython==3.1.43->helical) (4.0.12)\n",
      "Collecting antlr4-python3-runtime==4.9.* (from hydra-core==1.3.2->helical)\n",
      "  Downloading antlr4-python3-runtime-4.9.3.tar.gz (117 kB)\n",
      "  Preparing metadata (setup.py) ... \u001b[?25ldone\n",
      "\u001b[?25hRequirement already satisfied: setuptools in /Users/vincentlesang/miniconda3/envs/pythonenv/lib/python3.10/site-packages (from loompy==3.0.7->helical) (75.1.0)\n",
      "Collecting numba (from loompy==3.0.7->helical)\n",
      "  Downloading numba-0.61.2-cp310-cp310-macosx_11_0_arm64.whl.metadata (2.8 kB)\n",
      "Requirement already satisfied: click in /Users/vincentlesang/miniconda3/envs/pythonenv/lib/python3.10/site-packages (from loompy==3.0.7->helical) (8.1.7)\n",
      "Collecting numpy-groupies (from loompy==3.0.7->helical)\n",
      "  Downloading numpy_groupies-0.11.3-py3-none-any.whl.metadata (18 kB)\n",
      "Collecting igraph<0.12,>=0.10.0 (from louvain==0.8.2->helical)\n",
      "  Downloading igraph-0.11.9-cp39-abi3-macosx_11_0_arm64.whl.metadata (4.4 kB)\n",
      "Requirement already satisfied: python-dateutil>=2.8.2 in /Users/vincentlesang/miniconda3/envs/pythonenv/lib/python3.10/site-packages (from pandas==2.2.2->helical) (2.9.0)\n",
      "Requirement already satisfied: pytz>=2020.1 in /Users/vincentlesang/miniconda3/envs/pythonenv/lib/python3.10/site-packages (from pandas==2.2.2->helical) (2024.2)\n",
      "Requirement already satisfied: tzdata>=2022.7 in /Users/vincentlesang/miniconda3/envs/pythonenv/lib/python3.10/site-packages (from pandas==2.2.2->helical) (2024.2)\n",
      "Requirement already satisfied: seaborn in /Users/vincentlesang/miniconda3/envs/pythonenv/lib/python3.10/site-packages (from scib==1.1.5->helical) (0.13.2)\n",
      "Requirement already satisfied: matplotlib in /Users/vincentlesang/miniconda3/envs/pythonenv/lib/python3.10/site-packages (from scib==1.1.5->helical) (3.5.0)\n",
      "Collecting scanpy>=1.5 (from scib==1.1.5->helical)\n",
      "  Downloading scanpy-1.11.2-py3-none-any.whl.metadata (9.1 kB)\n",
      "Collecting leidenalg (from scib==1.1.5->helical)\n",
      "  Downloading leidenalg-0.10.2-cp38-abi3-macosx_11_0_arm64.whl.metadata (10 kB)\n",
      "Collecting umap-learn (from scib==1.1.5->helical)\n",
      "  Using cached umap_learn-0.5.7-py3-none-any.whl.metadata (21 kB)\n",
      "Collecting pydot (from scib==1.1.5->helical)\n",
      "  Downloading pydot-4.0.1-py3-none-any.whl.metadata (11 kB)\n",
      "Collecting llvmlite (from scib==1.1.5->helical)\n",
      "  Downloading llvmlite-0.44.0-cp310-cp310-macosx_11_0_arm64.whl.metadata (4.8 kB)\n",
      "Requirement already satisfied: deprecated in /Users/vincentlesang/miniconda3/envs/pythonenv/lib/python3.10/site-packages (from scib==1.1.5->helical) (1.2.18)\n",
      "Requirement already satisfied: networkx in /Users/vincentlesang/miniconda3/envs/pythonenv/lib/python3.10/site-packages (from torch==2.6.0->helical) (3.4.2)\n",
      "Requirement already satisfied: jinja2 in /Users/vincentlesang/miniconda3/envs/pythonenv/lib/python3.10/site-packages (from torch==2.6.0->helical) (3.1.4)\n",
      "Requirement already satisfied: sympy==1.13.1 in /Users/vincentlesang/miniconda3/envs/pythonenv/lib/python3.10/site-packages (from torch==2.6.0->helical) (1.13.1)\n",
      "Requirement already satisfied: pillow!=8.3.*,>=5.3.0 in /Users/vincentlesang/miniconda3/envs/pythonenv/lib/python3.10/site-packages (from torchvision==0.21.0->helical) (11.0.0)\n",
      "Collecting regex!=2019.12.17 (from transformers==4.49.0->helical)\n",
      "  Downloading regex-2024.11.6-cp310-cp310-macosx_11_0_arm64.whl.metadata (40 kB)\n",
      "Collecting tokenizers<0.22,>=0.21 (from transformers==4.49.0->helical)\n",
      "  Downloading tokenizers-0.21.2-cp39-abi3-macosx_11_0_arm64.whl.metadata (6.8 kB)\n",
      "Requirement already satisfied: mpmath<1.4,>=1.1.0 in /Users/vincentlesang/miniconda3/envs/pythonenv/lib/python3.10/site-packages (from sympy==1.13.1->torch==2.6.0->helical) (1.3.0)\n",
      "Requirement already satisfied: charset-normalizer<4,>=2 in /Users/vincentlesang/miniconda3/envs/pythonenv/lib/python3.10/site-packages (from requests>=2.32.3->helical) (3.4.0)\n",
      "Requirement already satisfied: idna<4,>=2.5 in /Users/vincentlesang/miniconda3/envs/pythonenv/lib/python3.10/site-packages (from requests>=2.32.3->helical) (3.10)\n",
      "Requirement already satisfied: urllib3<3,>=1.21.1 in /Users/vincentlesang/miniconda3/envs/pythonenv/lib/python3.10/site-packages (from requests>=2.32.3->helical) (2.2.3)\n",
      "Requirement already satisfied: certifi>=2017.4.17 in /Users/vincentlesang/miniconda3/envs/pythonenv/lib/python3.10/site-packages (from requests>=2.32.3->helical) (2024.8.30)\n",
      "Requirement already satisfied: joblib>=1.2.0 in /Users/vincentlesang/miniconda3/envs/pythonenv/lib/python3.10/site-packages (from scikit-learn>=1.5.0->helical) (1.4.2)\n",
      "Requirement already satisfied: threadpoolctl>=3.1.0 in /Users/vincentlesang/miniconda3/envs/pythonenv/lib/python3.10/site-packages (from scikit-learn>=1.5.0->helical) (3.5.0)\n",
      "Collecting typechecks<1.0.0,>=0.0.2 (from pyensembl->helical)\n",
      "  Downloading typechecks-0.1.0.tar.gz (3.4 kB)\n",
      "  Preparing metadata (setup.py) ... \u001b[?25ldone\n",
      "\u001b[?25hCollecting datacache<2.0.0,>=1.4.0 (from pyensembl->helical)\n",
      "  Downloading datacache-1.4.1-py3-none-any.whl.metadata (1.9 kB)\n",
      "Collecting memoized-property>=1.0.2 (from pyensembl->helical)\n",
      "  Downloading memoized-property-1.0.3.tar.gz (5.0 kB)\n",
      "  Preparing metadata (setup.py) ... \u001b[?25ldone\n",
      "\u001b[?25hCollecting tinytimer<1.0.0,>=0.0.0 (from pyensembl->helical)\n",
      "  Downloading tinytimer-0.0.0.tar.gz (2.1 kB)\n",
      "  Preparing metadata (setup.py) ... \u001b[?25ldone\n",
      "\u001b[?25hCollecting gtfparse<3.0.0,>=2.5.0 (from pyensembl->helical)\n",
      "  Downloading gtfparse-2.5.0-py3-none-any.whl.metadata (2.1 kB)\n",
      "Collecting serializable<1.0.0,>=0.2.1 (from pyensembl->helical)\n",
      "  Downloading serializable-0.4.1-py3-none-any.whl.metadata (2.2 kB)\n",
      "Collecting pylint<3.0.0,>=2.17.2 (from pyensembl->helical)\n",
      "  Downloading pylint-2.17.7-py3-none-any.whl.metadata (12 kB)\n",
      "Requirement already satisfied: cffi>=1.12 in /Users/vincentlesang/miniconda3/envs/pythonenv/lib/python3.10/site-packages (from cryptography>=2.5->azure-identity==1.16.1->helical) (1.17.1)\n",
      "Collecting appdirs>=1.4.0 (from datacache<2.0.0,>=1.4.0->pyensembl->helical)\n",
      "  Using cached appdirs-1.4.4-py2.py3-none-any.whl.metadata (9.0 kB)\n",
      "Collecting progressbar33>=2.4 (from datacache<2.0.0,>=1.4.0->pyensembl->helical)\n",
      "  Downloading progressbar33-2.4.tar.gz (10 kB)\n",
      "  Preparing metadata (setup.py) ... \u001b[?25ldone\n",
      "\u001b[?25hCollecting mock (from datacache<2.0.0,>=1.4.0->pyensembl->helical)\n",
      "  Downloading mock-5.2.0-py3-none-any.whl.metadata (3.1 kB)\n",
      "Requirement already satisfied: aiohappyeyeballs>=2.3.0 in /Users/vincentlesang/miniconda3/envs/pythonenv/lib/python3.10/site-packages (from aiohttp->datasets==2.20.0->helical) (2.4.6)\n",
      "Requirement already satisfied: aiosignal>=1.1.2 in /Users/vincentlesang/miniconda3/envs/pythonenv/lib/python3.10/site-packages (from aiohttp->datasets==2.20.0->helical) (1.3.2)\n",
      "Requirement already satisfied: async-timeout<6.0,>=4.0 in /Users/vincentlesang/miniconda3/envs/pythonenv/lib/python3.10/site-packages (from aiohttp->datasets==2.20.0->helical) (5.0.1)\n",
      "Requirement already satisfied: attrs>=17.3.0 in /Users/vincentlesang/miniconda3/envs/pythonenv/lib/python3.10/site-packages (from aiohttp->datasets==2.20.0->helical) (24.3.0)\n",
      "Requirement already satisfied: frozenlist>=1.1.1 in /Users/vincentlesang/miniconda3/envs/pythonenv/lib/python3.10/site-packages (from aiohttp->datasets==2.20.0->helical) (1.5.0)\n",
      "Requirement already satisfied: multidict<7.0,>=4.5 in /Users/vincentlesang/miniconda3/envs/pythonenv/lib/python3.10/site-packages (from aiohttp->datasets==2.20.0->helical) (6.1.0)\n",
      "Requirement already satisfied: propcache>=0.2.0 in /Users/vincentlesang/miniconda3/envs/pythonenv/lib/python3.10/site-packages (from aiohttp->datasets==2.20.0->helical) (0.2.1)\n",
      "Requirement already satisfied: yarl<2.0,>=1.17.0 in /Users/vincentlesang/miniconda3/envs/pythonenv/lib/python3.10/site-packages (from aiohttp->datasets==2.20.0->helical) (1.18.3)\n",
      "Requirement already satisfied: smmap<6,>=3.0.1 in /Users/vincentlesang/miniconda3/envs/pythonenv/lib/python3.10/site-packages (from gitdb<5,>=4.0.1->gitpython==3.1.43->helical) (5.0.2)\n",
      "Collecting polars<0.21.0,>=0.20.2 (from gtfparse<3.0.0,>=2.5.0->pyensembl->helical)\n",
      "  Downloading polars-0.20.31-cp38-abi3-macosx_11_0_arm64.whl.metadata (14 kB)\n",
      "INFO: pip is looking at multiple versions of gtfparse to determine which version is compatible with other requirements. This could take a while.\n",
      "Collecting pyensembl (from helical)\n",
      "  Downloading pyensembl-2.3.12-py3-none-any.whl.metadata (9.4 kB)\n",
      "  Downloading pyensembl-2.3.11-py3-none-any.whl.metadata (9.4 kB)\n",
      "  Downloading pyensembl-2.3.10-py3-none-any.whl.metadata (9.4 kB)\n",
      "  Downloading pyensembl-2.3.9-py3-none-any.whl.metadata (9.4 kB)\n",
      "  Downloading pyensembl-2.3.8-py3-none-any.whl.metadata (9.4 kB)\n",
      "  Downloading pyensembl-2.3.7-py3-none-any.whl.metadata (9.7 kB)\n",
      "  Downloading pyensembl-2.3.6-py3-none-any.whl.metadata (9.3 kB)\n",
      "INFO: pip is still looking at multiple versions of gtfparse to determine which version is compatible with other requirements. This could take a while.\n",
      "Collecting gtfparse<3.0.0,>=2.4.1 (from pyensembl->helical)\n",
      "  Downloading gtfparse-2.4.1-py3-none-any.whl.metadata (2.1 kB)\n",
      "Collecting pyensembl (from helical)\n",
      "  Downloading pyensembl-2.3.4-py3-none-any.whl.metadata (9.3 kB)\n",
      "Requirement already satisfied: pylint>=1.4.4 in /Users/vincentlesang/miniconda3/envs/pythonenv/lib/python3.10/site-packages (from pyensembl->helical) (3.3.1)\n",
      "Collecting gtfparse<3.0.0,>=2.2.1 (from pyensembl->helical)\n",
      "  Downloading gtfparse-2.4.0-py3-none-any.whl.metadata (2.1 kB)\n",
      "  Downloading gtfparse-2.3.0-py3-none-any.whl.metadata (2.1 kB)\n",
      "INFO: This is taking longer than usual. You might need to provide the dependency resolver with stricter constraints to reduce runtime. See https://pip.pypa.io/warnings/backtracking for guidance. If you want to abort this run, press Ctrl + C.\n",
      "Collecting pyensembl (from helical)\n",
      "  Downloading pyensembl-2.3.3-py3-none-any.whl.metadata (9.3 kB)\n",
      "  Downloading pyensembl-2.3.2-py3-none-any.whl.metadata (9.3 kB)\n",
      "  Downloading pyensembl-2.3.1-py3-none-any.whl.metadata (9.3 kB)\n",
      "  Downloading pyensembl-2.3.0.tar.gz (45 kB)\n",
      "  Preparing metadata (setup.py) ... \u001b[?25ldone\n",
      "\u001b[?25hCollecting gtfparse<2.2.0,>=2.1.0 (from pyensembl->helical)\n",
      "  Downloading gtfparse-2.1.0-py3-none-any.whl.metadata (2.1 kB)\n",
      "Collecting nose>=1.3.3 (from pyensembl->helical)\n",
      "  Downloading nose-1.3.7-py3-none-any.whl.metadata (1.7 kB)\n",
      "Collecting pyensembl (from helical)\n",
      "  Downloading pyensembl-2.2.9.tar.gz (58 kB)\n",
      "  Preparing metadata (setup.py) ... \u001b[?25ldone\n",
      "\u001b[?25hCollecting gtfparse<2.0.0,>=1.3.0 (from pyensembl->helical)\n",
      "  Downloading gtfparse-1.3.0.tar.gz (16 kB)\n",
      "  Preparing metadata (setup.py) ... \u001b[?25ldone\n",
      "\u001b[?25hCollecting hf-xet<2.0.0,>=1.1.2 (from huggingface-hub>=0.21.0->accelerate==1.4.0->helical)\n",
      "  Downloading hf_xet-1.1.5-cp37-abi3-macosx_11_0_arm64.whl.metadata (879 bytes)\n",
      "Collecting texttable>=1.6.2 (from igraph<0.12,>=0.10.0->louvain==0.8.2->helical)\n",
      "  Downloading texttable-1.7.0-py2.py3-none-any.whl.metadata (9.8 kB)\n",
      "Collecting PyJWT<3,>=1.0.0 (from PyJWT[crypto]<3,>=1.0.0->msal>=1.24.0->azure-identity==1.16.1->helical)\n",
      "  Downloading PyJWT-2.10.1-py3-none-any.whl.metadata (4.0 kB)\n",
      "Requirement already satisfied: platformdirs>=2.2.0 in /Users/vincentlesang/miniconda3/envs/pythonenv/lib/python3.10/site-packages (from pylint>=1.4.4->pyensembl->helical) (4.3.6)\n",
      "Requirement already satisfied: astroid<=3.4.0-dev0,>=3.3.4 in /Users/vincentlesang/miniconda3/envs/pythonenv/lib/python3.10/site-packages (from pylint>=1.4.4->pyensembl->helical) (3.3.5)\n",
      "Requirement already satisfied: isort!=5.13.0,<6,>=4.2.5 in /Users/vincentlesang/miniconda3/envs/pythonenv/lib/python3.10/site-packages (from pylint>=1.4.4->pyensembl->helical) (5.13.2)\n",
      "Requirement already satisfied: mccabe<0.8,>=0.6 in /Users/vincentlesang/miniconda3/envs/pythonenv/lib/python3.10/site-packages (from pylint>=1.4.4->pyensembl->helical) (0.7.0)\n",
      "Requirement already satisfied: tomlkit>=0.10.1 in /Users/vincentlesang/miniconda3/envs/pythonenv/lib/python3.10/site-packages (from pylint>=1.4.4->pyensembl->helical) (0.13.2)\n",
      "Requirement already satisfied: tomli>=1.1.0 in /Users/vincentlesang/miniconda3/envs/pythonenv/lib/python3.10/site-packages (from pylint>=1.4.4->pyensembl->helical) (2.1.0)\n",
      "Collecting legacy-api-wrap>=1.4.1 (from scanpy>=1.5->scib==1.1.5->helical)\n",
      "  Downloading legacy_api_wrap-1.4.1-py3-none-any.whl.metadata (2.1 kB)\n",
      "Collecting matplotlib (from scib==1.1.5->helical)\n",
      "  Downloading matplotlib-3.10.3-cp310-cp310-macosx_11_0_arm64.whl.metadata (11 kB)\n",
      "Collecting patsy!=1.0.0 (from scanpy>=1.5->scib==1.1.5->helical)\n",
      "  Downloading patsy-1.0.1-py2.py3-none-any.whl.metadata (3.3 kB)\n",
      "Collecting pynndescent>=0.5.13 (from scanpy>=1.5->scib==1.1.5->helical)\n",
      "  Using cached pynndescent-0.5.13-py3-none-any.whl.metadata (6.8 kB)\n",
      "Collecting session-info2 (from scanpy>=1.5->scib==1.1.5->helical)\n",
      "  Downloading session_info2-0.1.2-py3-none-any.whl.metadata (2.5 kB)\n",
      "Collecting statsmodels>=0.14.4 (from scanpy>=1.5->scib==1.1.5->helical)\n",
      "  Downloading statsmodels-0.14.4-cp310-cp310-macosx_11_0_arm64.whl.metadata (9.2 kB)\n",
      "Requirement already satisfied: contourpy>=1.0.1 in /Users/vincentlesang/miniconda3/envs/pythonenv/lib/python3.10/site-packages (from matplotlib->scib==1.1.5->helical) (1.3.0)\n",
      "Requirement already satisfied: cycler>=0.10 in /Users/vincentlesang/miniconda3/envs/pythonenv/lib/python3.10/site-packages (from matplotlib->scib==1.1.5->helical) (0.12.1)\n",
      "Requirement already satisfied: fonttools>=4.22.0 in /Users/vincentlesang/miniconda3/envs/pythonenv/lib/python3.10/site-packages (from matplotlib->scib==1.1.5->helical) (4.54.1)\n",
      "Requirement already satisfied: kiwisolver>=1.3.1 in /Users/vincentlesang/miniconda3/envs/pythonenv/lib/python3.10/site-packages (from matplotlib->scib==1.1.5->helical) (1.4.7)\n",
      "Requirement already satisfied: pyparsing>=2.3.1 in /Users/vincentlesang/miniconda3/envs/pythonenv/lib/python3.10/site-packages (from matplotlib->scib==1.1.5->helical) (3.2.0)\n",
      "Requirement already satisfied: wrapt<2,>=1.10 in /Users/vincentlesang/miniconda3/envs/pythonenv/lib/python3.10/site-packages (from deprecated->scib==1.1.5->helical) (1.16.0)\n",
      "Requirement already satisfied: MarkupSafe>=2.0 in /Users/vincentlesang/miniconda3/envs/pythonenv/lib/python3.10/site-packages (from jinja2->torch==2.6.0->helical) (3.0.2)\n",
      "INFO: pip is looking at multiple versions of multiprocess to determine which version is compatible with other requirements. This could take a while.\n",
      "Collecting multiprocess (from datasets==2.20.0->helical)\n",
      "  Downloading multiprocess-0.70.17-py310-none-any.whl.metadata (7.2 kB)\n",
      "  Downloading multiprocess-0.70.16-py310-none-any.whl.metadata (7.2 kB)\n",
      "Collecting simplejson (from serializable<1.0.0,>=0.2.1->pyensembl->helical)\n",
      "  Downloading simplejson-3.20.1-cp310-cp310-macosx_11_0_arm64.whl.metadata (3.3 kB)\n",
      "Requirement already satisfied: pycparser in /Users/vincentlesang/miniconda3/envs/pythonenv/lib/python3.10/site-packages (from cffi>=1.12->cryptography>=2.5->azure-identity==1.16.1->helical) (2.22)\n",
      "Downloading helical-1.3.0-py3-none-any.whl (296 kB)\n",
      "Downloading accelerate-1.4.0-py3-none-any.whl (342 kB)\n",
      "Downloading anndata-0.11.0-py3-none-any.whl (141 kB)\n",
      "Downloading azure_core-1.30.1-py3-none-any.whl (193 kB)\n",
      "Downloading azure_identity-1.16.1-py3-none-any.whl (166 kB)\n",
      "Downloading azure_storage_blob-12.19.1-py3-none-any.whl (394 kB)\n",
      "Downloading datasets-2.20.0-py3-none-any.whl (547 kB)\n",
      "\u001b[2K   \u001b[90m━━━━━━━━━━━━━━━━━━━━━━━━━━━━━━━━━━━━━━━━\u001b[0m \u001b[32m547.8/547.8 kB\u001b[0m \u001b[31m12.3 MB/s\u001b[0m eta \u001b[36m0:00:00\u001b[0m\n",
      "\u001b[?25hDownloading einops-0.8.0-py3-none-any.whl (43 kB)\n",
      "Downloading GitPython-3.1.43-py3-none-any.whl (207 kB)\n",
      "Downloading hydra_core-1.3.2-py3-none-any.whl (154 kB)\n",
      "Downloading louvain-0.8.2-cp310-cp310-macosx_11_0_arm64.whl (185 kB)\n",
      "Downloading omegaconf-2.3.0-py3-none-any.whl (79 kB)\n",
      "Downloading pandas-2.2.2-cp310-cp310-macosx_11_0_arm64.whl (11.3 MB)\n",
      "\u001b[2K   \u001b[90m━━━━━━━━━━━━━━━━━━━━━━━━━━━━━━━━━━━━━━━━\u001b[0m \u001b[32m11.3/11.3 MB\u001b[0m \u001b[31m13.8 MB/s\u001b[0m eta \u001b[36m0:00:00\u001b[0m \u001b[36m0:00:01\u001b[0m\n",
      "\u001b[?25hDownloading scib-1.1.5-1-py3-none-any.whl (79 kB)\n",
      "Downloading scikit_misc-0.3.1-cp310-cp310-macosx_12_0_arm64.whl (8.3 MB)\n",
      "\u001b[2K   \u001b[90m━━━━━━━━━━━━━━━━━━━━━━━━━━━━━━━━━━━━━━━━\u001b[0m \u001b[32m8.3/8.3 MB\u001b[0m \u001b[31m6.8 MB/s\u001b[0m eta \u001b[36m0:00:00\u001b[0ma \u001b[36m0:00:01\u001b[0mm\n",
      "\u001b[?25hDownloading scipy-1.13.1-cp310-cp310-macosx_12_0_arm64.whl (30.3 MB)\n",
      "\u001b[2K   \u001b[90m━━━━━━━━━━━━━━━━━━━━━━━━━━━━━━━━━━━━━━━━\u001b[0m \u001b[32m30.3/30.3 MB\u001b[0m \u001b[31m10.6 MB/s\u001b[0m eta \u001b[36m0:00:00\u001b[0m00:01\u001b[0m00:01\u001b[0m\n",
      "\u001b[?25hDownloading transformers-4.49.0-py3-none-any.whl (10.0 MB)\n",
      "\u001b[2K   \u001b[90m━━━━━━━━━━━━━━━━━━━━━━━━━━━━━━━━━━━━━━━━\u001b[0m \u001b[32m10.0/10.0 MB\u001b[0m \u001b[31m8.4 MB/s\u001b[0m eta \u001b[36m0:00:00\u001b[0m \u001b[36m0:00:01\u001b[0m\n",
      "\u001b[?25hDownloading array_api_compat-1.12.0-py3-none-any.whl (58 kB)\n",
      "Downloading datacache-1.4.1-py3-none-any.whl (20 kB)\n",
      "Downloading dill-0.3.8-py3-none-any.whl (116 kB)\n",
      "Downloading fsspec-2024.5.0-py3-none-any.whl (316 kB)\n",
      "Downloading huggingface_hub-0.33.1-py3-none-any.whl (515 kB)\n",
      "Downloading igraph-0.11.9-cp39-abi3-macosx_11_0_arm64.whl (1.8 MB)\n",
      "\u001b[2K   \u001b[90m━━━━━━━━━━━━━━━━━━━━━━━━━━━━━━━━━━━━━━━━\u001b[0m \u001b[32m1.8/1.8 MB\u001b[0m \u001b[31m10.5 MB/s\u001b[0m eta \u001b[36m0:00:00\u001b[0m\n",
      "\u001b[?25hDownloading isodate-0.7.2-py3-none-any.whl (22 kB)\n",
      "Downloading msal-1.32.3-py3-none-any.whl (115 kB)\n",
      "Downloading msal_extensions-1.3.1-py3-none-any.whl (20 kB)\n",
      "Downloading nose-1.3.7-py3-none-any.whl (154 kB)\n",
      "Downloading regex-2024.11.6-cp310-cp310-macosx_11_0_arm64.whl (284 kB)\n",
      "Downloading safetensors-0.5.3-cp38-abi3-macosx_11_0_arm64.whl (418 kB)\n",
      "Downloading scanpy-1.11.2-py3-none-any.whl (2.1 MB)\n",
      "\u001b[2K   \u001b[90m━━━━━━━━━━━━━━━━━━━━━━━━━━━━━━━━━━━━━━━━\u001b[0m \u001b[32m2.1/2.1 MB\u001b[0m \u001b[31m8.0 MB/s\u001b[0m eta \u001b[36m0:00:00\u001b[0ma \u001b[36m0:00:01\u001b[0m\n",
      "\u001b[?25hDownloading matplotlib-3.10.3-cp310-cp310-macosx_11_0_arm64.whl (8.0 MB)\n",
      "\u001b[2K   \u001b[90m━━━━━━━━━━━━━━━━━━━━━━━━━━━━━━━━━━━━━━━━\u001b[0m \u001b[32m8.0/8.0 MB\u001b[0m \u001b[31m11.0 MB/s\u001b[0m eta \u001b[36m0:00:00\u001b[0ma \u001b[36m0:00:01\u001b[0m\n",
      "\u001b[?25hDownloading numba-0.61.2-cp310-cp310-macosx_11_0_arm64.whl (2.8 MB)\n",
      "\u001b[2K   \u001b[90m━━━━━━━━━━━━━━━━━━━━━━━━━━━━━━━━━━━━━━━━\u001b[0m \u001b[32m2.8/2.8 MB\u001b[0m \u001b[31m7.9 MB/s\u001b[0m eta \u001b[36m0:00:00\u001b[0mta \u001b[36m0:00:01\u001b[0m\n",
      "\u001b[?25hDownloading llvmlite-0.44.0-cp310-cp310-macosx_11_0_arm64.whl (26.2 MB)\n",
      "\u001b[2K   \u001b[90m━━━━━━━━━━━━━━━━━━━━━━━━━━━━━━━━━━━━━━━━\u001b[0m \u001b[32m26.2/26.2 MB\u001b[0m \u001b[31m9.4 MB/s\u001b[0m eta \u001b[36m0:00:00\u001b[0ma \u001b[36m0:00:01\u001b[0mm\n",
      "\u001b[?25hDownloading tokenizers-0.21.2-cp39-abi3-macosx_11_0_arm64.whl (2.7 MB)\n",
      "\u001b[2K   \u001b[90m━━━━━━━━━━━━━━━━━━━━━━━━━━━━━━━━━━━━━━━━\u001b[0m \u001b[32m2.7/2.7 MB\u001b[0m \u001b[31m7.3 MB/s\u001b[0m eta \u001b[36m0:00:00\u001b[0mta \u001b[36m0:00:01\u001b[0m\n",
      "\u001b[?25hUsing cached umap_learn-0.5.7-py3-none-any.whl (88 kB)\n",
      "Downloading leidenalg-0.10.2-cp38-abi3-macosx_11_0_arm64.whl (1.4 MB)\n",
      "\u001b[2K   \u001b[90m━━━━━━━━━━━━━━━━━━━━━━━━━━━━━━━━━━━━━━━━\u001b[0m \u001b[32m1.4/1.4 MB\u001b[0m \u001b[31m10.7 MB/s\u001b[0m eta \u001b[36m0:00:00\u001b[0m\n",
      "\u001b[?25hDownloading multiprocess-0.70.16-py310-none-any.whl (134 kB)\n",
      "Downloading natsort-8.4.0-py3-none-any.whl (38 kB)\n",
      "Downloading numpy_groupies-0.11.3-py3-none-any.whl (40 kB)\n",
      "Downloading pyarrow_hotfix-0.7-py3-none-any.whl (7.9 kB)\n",
      "Downloading pydot-4.0.1-py3-none-any.whl (37 kB)\n",
      "Downloading serializable-0.4.1-py3-none-any.whl (12 kB)\n",
      "Downloading xxhash-3.5.0-cp310-cp310-macosx_11_0_arm64.whl (30 kB)\n",
      "Downloading appdirs-1.4.4-py2.py3-none-any.whl (9.6 kB)\n",
      "Downloading hf_xet-1.1.5-cp37-abi3-macosx_11_0_arm64.whl (2.6 MB)\n",
      "\u001b[2K   \u001b[90m━━━━━━━━━━━━━━━━━━━━━━━━━━━━━━━━━━━━━━━━\u001b[0m \u001b[32m2.6/2.6 MB\u001b[0m \u001b[31m11.8 MB/s\u001b[0m eta \u001b[36m0:00:00\u001b[0ma \u001b[36m0:00:01\u001b[0m\n",
      "\u001b[?25hDownloading legacy_api_wrap-1.4.1-py3-none-any.whl (10.0 kB)\n",
      "Downloading patsy-1.0.1-py2.py3-none-any.whl (232 kB)\n",
      "Downloading PyJWT-2.10.1-py3-none-any.whl (22 kB)\n",
      "Using cached pynndescent-0.5.13-py3-none-any.whl (56 kB)\n",
      "Downloading statsmodels-0.14.4-cp310-cp310-macosx_11_0_arm64.whl (9.9 MB)\n",
      "\u001b[2K   \u001b[90m━━━━━━━━━━━━━━━━━━━━━━━━━━━━━━━━━━━━━━━━\u001b[0m \u001b[32m9.9/9.9 MB\u001b[0m \u001b[31m6.9 MB/s\u001b[0m eta \u001b[36m0:00:00\u001b[0ma \u001b[36m0:00:01\u001b[0m\n",
      "\u001b[?25hDownloading texttable-1.7.0-py2.py3-none-any.whl (10 kB)\n",
      "Downloading mock-5.2.0-py3-none-any.whl (31 kB)\n",
      "Downloading session_info2-0.1.2-py3-none-any.whl (14 kB)\n",
      "Downloading simplejson-3.20.1-cp310-cp310-macosx_11_0_arm64.whl (75 kB)\n",
      "Building wheels for collected packages: loompy, antlr4-python3-runtime, pyensembl, gtfparse, memoized-property, typechecks, tinytimer, progressbar33\n",
      "  Building wheel for loompy (setup.py) ... \u001b[?25ldone\n",
      "\u001b[?25h  Created wheel for loompy: filename=loompy-3.0.7-py3-none-any.whl size=52018 sha256=440a7e653c4918f0b0049d5f56e37ad990f2b222c5bfd09d7f8e7b64ecf6bb67\n",
      "  Stored in directory: /Users/vincentlesang/Library/Caches/pip/wheels/2c/22/1f/792a4621bb631e538bf1c21feae9bbaa6b19fd6d6ab382d1fd\n",
      "  Building wheel for antlr4-python3-runtime (setup.py) ... \u001b[?25ldone\n",
      "\u001b[?25h  Created wheel for antlr4-python3-runtime: filename=antlr4_python3_runtime-4.9.3-py3-none-any.whl size=144555 sha256=8e6e168c5aa6812d47f3af55139be5320b80a1182f3e510c48d9b71df5e2a9c7\n",
      "  Stored in directory: /Users/vincentlesang/Library/Caches/pip/wheels/12/93/dd/1f6a127edc45659556564c5730f6d4e300888f4bca2d4c5a88\n",
      "  Building wheel for pyensembl (setup.py) ... \u001b[?25ldone\n",
      "\u001b[?25h  Created wheel for pyensembl: filename=pyensembl-2.2.9-py3-none-any.whl size=54767 sha256=35c014af82ce74a0697f3ea0de6368f0ff8a8a32bd9881f8c0a63e87882039b3\n",
      "  Stored in directory: /Users/vincentlesang/Library/Caches/pip/wheels/9b/d4/f6/5d81f73d420f79c0c4e28cda309ea74103c2a739cb70d5ad6b\n",
      "  Building wheel for gtfparse (setup.py) ... \u001b[?25ldone\n",
      "\u001b[?25h  Created wheel for gtfparse: filename=gtfparse-1.3.0-py3-none-any.whl size=15732 sha256=0b2aacef1b0176090fd2b884d03fcec11719910ba1fd64330d0a091cb6b578fb\n",
      "  Stored in directory: /Users/vincentlesang/Library/Caches/pip/wheels/16/61/14/79a5d19ca93f1e929cd622fb835e2c5ccca1325c382be6d550\n",
      "  Building wheel for memoized-property (setup.py) ... \u001b[?25ldone\n",
      "\u001b[?25h  Created wheel for memoized-property: filename=memoized_property-1.0.3-py2.py3-none-any.whl size=4186 sha256=8dfd29269b18e40c765027bd882489bcc29277574c5cd8b4ca8954b7b4ee933c\n",
      "  Stored in directory: /Users/vincentlesang/Library/Caches/pip/wheels/f7/0f/93/d0497c1248dcc9113cfa09e6ddf52f5636b68bcd6751bad581\n",
      "  Building wheel for typechecks (setup.py) ... \u001b[?25ldone\n",
      "\u001b[?25h  Created wheel for typechecks: filename=typechecks-0.1.0-py3-none-any.whl size=2752 sha256=89000f2f1e5479aebae6019d0e7d798190d3b1b59bd19075a1d7246ef46314ba\n",
      "  Stored in directory: /Users/vincentlesang/Library/Caches/pip/wheels/da/a7/4d/6fb19c879271cf359a24d5bc4d074d53380cc2473f70068c4e\n",
      "  Building wheel for tinytimer (setup.py) ... \u001b[?25ldone\n",
      "\u001b[?25h  Created wheel for tinytimer: filename=tinytimer-0.0.0-py3-none-any.whl size=1875 sha256=0f7d46482c94c680a7f68f982b568936f98fdc3705de1498ee3ad1702fc48a5a\n",
      "  Stored in directory: /Users/vincentlesang/Library/Caches/pip/wheels/35/7f/a3/036dd96fcd3da5d509047bcc764790cea8f6c73edadb1cbedc\n",
      "  Building wheel for progressbar33 (setup.py) ... \u001b[?25ldone\n",
      "\u001b[?25h  Created wheel for progressbar33: filename=progressbar33-2.4-py3-none-any.whl size=12142 sha256=a61d4d2c24210c82018a09e54023e49f6099b1e584643f85c0eb09d560714e97\n",
      "  Stored in directory: /Users/vincentlesang/Library/Caches/pip/wheels/28/6d/b6/fd4b9b1489353528a2eea1200c98532fd60d535e22498d9e28\n",
      "Successfully built loompy antlr4-python3-runtime pyensembl gtfparse memoized-property typechecks tinytimer progressbar33\n",
      "\u001b[33mWARNING: Error parsing dependencies of tensorflow-probability: [Errno 2] No such file or directory: '/Users/vincentlesang/miniconda3/envs/pythonenv/lib/python3.10/site-packages/tensorflow_probability-0.24.0.dist-info/METADATA'\u001b[0m\u001b[33m\n",
      "\u001b[0mInstalling collected packages: typechecks, tinytimer, texttable, progressbar33, nose, memoized-property, appdirs, antlr4-python3-runtime, xxhash, simplejson, session-info2, scipy, scikit-misc, safetensors, regex, PyJWT, pydot, pyarrow-hotfix, patsy, omegaconf, numpy-groupies, natsort, mock, llvmlite, legacy-api-wrap, isodate, igraph, hf-xet, fsspec, einops, dill, array-api-compat, serializable, pandas, numba, multiprocess, matplotlib, louvain, leidenalg, hydra-core, huggingface-hub, gitpython, azure-core, tokenizers, statsmodels, pynndescent, loompy, gtfparse, datacache, azure-storage-blob, anndata, accelerate, umap-learn, transformers, pyensembl, msal, scanpy, msal-extensions, datasets, scib, azure-identity, helical\n",
      "  Attempting uninstall: scipy\n",
      "    Found existing installation: scipy 1.14.1\n",
      "    Uninstalling scipy-1.14.1:\n",
      "      Successfully uninstalled scipy-1.14.1\n",
      "  Attempting uninstall: fsspec\n",
      "    Found existing installation: fsspec 2024.10.0\n",
      "    Uninstalling fsspec-2024.10.0:\n",
      "      Successfully uninstalled fsspec-2024.10.0\n",
      "  Attempting uninstall: dill\n",
      "    Found existing installation: dill 0.3.9\n",
      "    Uninstalling dill-0.3.9:\n",
      "      Successfully uninstalled dill-0.3.9\n",
      "  Attempting uninstall: pandas\n",
      "    Found existing installation: pandas 2.2.3\n",
      "    Uninstalling pandas-2.2.3:\n",
      "      Successfully uninstalled pandas-2.2.3\n",
      "  Attempting uninstall: matplotlib\n",
      "    Found existing installation: matplotlib 3.5.0\n",
      "    Uninstalling matplotlib-3.5.0:\n",
      "      Successfully uninstalled matplotlib-3.5.0\n",
      "  Attempting uninstall: gitpython\n",
      "    Found existing installation: GitPython 3.1.44\n",
      "    Uninstalling GitPython-3.1.44:\n",
      "      Successfully uninstalled GitPython-3.1.44\n",
      "Successfully installed PyJWT-2.10.1 accelerate-1.4.0 anndata-0.11.0 antlr4-python3-runtime-4.9.3 appdirs-1.4.4 array-api-compat-1.12.0 azure-core-1.30.1 azure-identity-1.16.1 azure-storage-blob-12.19.1 datacache-1.4.1 datasets-2.20.0 dill-0.3.8 einops-0.8.0 fsspec-2024.5.0 gitpython-3.1.43 gtfparse-1.3.0 helical-1.3.0 hf-xet-1.1.5 huggingface-hub-0.33.1 hydra-core-1.3.2 igraph-0.11.9 isodate-0.7.2 legacy-api-wrap-1.4.1 leidenalg-0.10.2 llvmlite-0.44.0 loompy-3.0.7 louvain-0.8.2 matplotlib-3.10.3 memoized-property-1.0.3 mock-5.2.0 msal-1.32.3 msal-extensions-1.3.1 multiprocess-0.70.16 natsort-8.4.0 nose-1.3.7 numba-0.61.2 numpy-groupies-0.11.3 omegaconf-2.3.0 pandas-2.2.2 patsy-1.0.1 progressbar33-2.4 pyarrow-hotfix-0.7 pydot-4.0.1 pyensembl-2.2.9 pynndescent-0.5.13 regex-2024.11.6 safetensors-0.5.3 scanpy-1.11.2 scib-1.1.5 scikit-misc-0.3.1 scipy-1.13.1 serializable-0.4.1 session-info2-0.1.2 simplejson-3.20.1 statsmodels-0.14.4 texttable-1.7.0 tinytimer-0.0.0 tokenizers-0.21.2 transformers-4.49.0 typechecks-0.1.0 umap-learn-0.5.7 xxhash-3.5.0\n",
      "\n",
      "\u001b[1m[\u001b[0m\u001b[34;49mnotice\u001b[0m\u001b[1;39;49m]\u001b[0m\u001b[39;49m A new release of pip is available: \u001b[0m\u001b[31;49m25.0.1\u001b[0m\u001b[39;49m -> \u001b[0m\u001b[32;49m25.1.1\u001b[0m\n",
      "\u001b[1m[\u001b[0m\u001b[34;49mnotice\u001b[0m\u001b[1;39;49m]\u001b[0m\u001b[39;49m To update, run: \u001b[0m\u001b[32;49mpip install --upgrade pip\u001b[0m\n",
      "Note: you may need to restart the kernel to use updated packages.\n"
     ]
    }
   ],
   "source": [
    "pip install helical"
   ]
  },
  {
   "cell_type": "code",
   "execution_count": 2,
   "metadata": {},
   "outputs": [
    {
     "name": "stdout",
     "output_type": "stream",
     "text": [
      "Requirement already satisfied: datasets in /Users/vincentlesang/miniconda3/envs/pythonenv/lib/python3.10/site-packages (2.20.0)\n",
      "Collecting datasets\n",
      "  Downloading datasets-3.6.0-py3-none-any.whl.metadata (19 kB)\n",
      "Requirement already satisfied: filelock in /Users/vincentlesang/miniconda3/envs/pythonenv/lib/python3.10/site-packages (from datasets) (3.16.1)\n",
      "Requirement already satisfied: numpy>=1.17 in /Users/vincentlesang/miniconda3/envs/pythonenv/lib/python3.10/site-packages (from datasets) (1.26.4)\n",
      "Requirement already satisfied: pyarrow>=15.0.0 in /Users/vincentlesang/miniconda3/envs/pythonenv/lib/python3.10/site-packages (from datasets) (18.0.0)\n",
      "Requirement already satisfied: dill<0.3.9,>=0.3.0 in /Users/vincentlesang/miniconda3/envs/pythonenv/lib/python3.10/site-packages (from datasets) (0.3.8)\n",
      "Requirement already satisfied: pandas in /Users/vincentlesang/miniconda3/envs/pythonenv/lib/python3.10/site-packages (from datasets) (2.2.2)\n",
      "Requirement already satisfied: requests>=2.32.2 in /Users/vincentlesang/miniconda3/envs/pythonenv/lib/python3.10/site-packages (from datasets) (2.32.3)\n",
      "Requirement already satisfied: tqdm>=4.66.3 in /Users/vincentlesang/miniconda3/envs/pythonenv/lib/python3.10/site-packages (from datasets) (4.67.0)\n",
      "Requirement already satisfied: xxhash in /Users/vincentlesang/miniconda3/envs/pythonenv/lib/python3.10/site-packages (from datasets) (3.5.0)\n",
      "Requirement already satisfied: multiprocess<0.70.17 in /Users/vincentlesang/miniconda3/envs/pythonenv/lib/python3.10/site-packages (from datasets) (0.70.16)\n",
      "Requirement already satisfied: fsspec<=2025.3.0,>=2023.1.0 in /Users/vincentlesang/miniconda3/envs/pythonenv/lib/python3.10/site-packages (from fsspec[http]<=2025.3.0,>=2023.1.0->datasets) (2024.5.0)\n",
      "Requirement already satisfied: huggingface-hub>=0.24.0 in /Users/vincentlesang/miniconda3/envs/pythonenv/lib/python3.10/site-packages (from datasets) (0.33.1)\n",
      "Requirement already satisfied: packaging in /Users/vincentlesang/miniconda3/envs/pythonenv/lib/python3.10/site-packages (from datasets) (24.1)\n",
      "Requirement already satisfied: pyyaml>=5.1 in /Users/vincentlesang/miniconda3/envs/pythonenv/lib/python3.10/site-packages (from datasets) (6.0.2)\n",
      "Requirement already satisfied: aiohttp!=4.0.0a0,!=4.0.0a1 in /Users/vincentlesang/miniconda3/envs/pythonenv/lib/python3.10/site-packages (from fsspec[http]<=2025.3.0,>=2023.1.0->datasets) (3.11.12)\n",
      "Requirement already satisfied: typing-extensions>=3.7.4.3 in /Users/vincentlesang/miniconda3/envs/pythonenv/lib/python3.10/site-packages (from huggingface-hub>=0.24.0->datasets) (4.12.2)\n",
      "Requirement already satisfied: hf-xet<2.0.0,>=1.1.2 in /Users/vincentlesang/miniconda3/envs/pythonenv/lib/python3.10/site-packages (from huggingface-hub>=0.24.0->datasets) (1.1.5)\n",
      "Requirement already satisfied: charset-normalizer<4,>=2 in /Users/vincentlesang/miniconda3/envs/pythonenv/lib/python3.10/site-packages (from requests>=2.32.2->datasets) (3.4.0)\n",
      "Requirement already satisfied: idna<4,>=2.5 in /Users/vincentlesang/miniconda3/envs/pythonenv/lib/python3.10/site-packages (from requests>=2.32.2->datasets) (3.10)\n",
      "Requirement already satisfied: urllib3<3,>=1.21.1 in /Users/vincentlesang/miniconda3/envs/pythonenv/lib/python3.10/site-packages (from requests>=2.32.2->datasets) (2.2.3)\n",
      "Requirement already satisfied: certifi>=2017.4.17 in /Users/vincentlesang/miniconda3/envs/pythonenv/lib/python3.10/site-packages (from requests>=2.32.2->datasets) (2024.8.30)\n",
      "Requirement already satisfied: python-dateutil>=2.8.2 in /Users/vincentlesang/miniconda3/envs/pythonenv/lib/python3.10/site-packages (from pandas->datasets) (2.9.0)\n",
      "Requirement already satisfied: pytz>=2020.1 in /Users/vincentlesang/miniconda3/envs/pythonenv/lib/python3.10/site-packages (from pandas->datasets) (2024.2)\n",
      "Requirement already satisfied: tzdata>=2022.7 in /Users/vincentlesang/miniconda3/envs/pythonenv/lib/python3.10/site-packages (from pandas->datasets) (2024.2)\n",
      "Requirement already satisfied: aiohappyeyeballs>=2.3.0 in /Users/vincentlesang/miniconda3/envs/pythonenv/lib/python3.10/site-packages (from aiohttp!=4.0.0a0,!=4.0.0a1->fsspec[http]<=2025.3.0,>=2023.1.0->datasets) (2.4.6)\n",
      "Requirement already satisfied: aiosignal>=1.1.2 in /Users/vincentlesang/miniconda3/envs/pythonenv/lib/python3.10/site-packages (from aiohttp!=4.0.0a0,!=4.0.0a1->fsspec[http]<=2025.3.0,>=2023.1.0->datasets) (1.3.2)\n",
      "Requirement already satisfied: async-timeout<6.0,>=4.0 in /Users/vincentlesang/miniconda3/envs/pythonenv/lib/python3.10/site-packages (from aiohttp!=4.0.0a0,!=4.0.0a1->fsspec[http]<=2025.3.0,>=2023.1.0->datasets) (5.0.1)\n",
      "Requirement already satisfied: attrs>=17.3.0 in /Users/vincentlesang/miniconda3/envs/pythonenv/lib/python3.10/site-packages (from aiohttp!=4.0.0a0,!=4.0.0a1->fsspec[http]<=2025.3.0,>=2023.1.0->datasets) (24.3.0)\n",
      "Requirement already satisfied: frozenlist>=1.1.1 in /Users/vincentlesang/miniconda3/envs/pythonenv/lib/python3.10/site-packages (from aiohttp!=4.0.0a0,!=4.0.0a1->fsspec[http]<=2025.3.0,>=2023.1.0->datasets) (1.5.0)\n",
      "Requirement already satisfied: multidict<7.0,>=4.5 in /Users/vincentlesang/miniconda3/envs/pythonenv/lib/python3.10/site-packages (from aiohttp!=4.0.0a0,!=4.0.0a1->fsspec[http]<=2025.3.0,>=2023.1.0->datasets) (6.1.0)\n",
      "Requirement already satisfied: propcache>=0.2.0 in /Users/vincentlesang/miniconda3/envs/pythonenv/lib/python3.10/site-packages (from aiohttp!=4.0.0a0,!=4.0.0a1->fsspec[http]<=2025.3.0,>=2023.1.0->datasets) (0.2.1)\n",
      "Requirement already satisfied: yarl<2.0,>=1.17.0 in /Users/vincentlesang/miniconda3/envs/pythonenv/lib/python3.10/site-packages (from aiohttp!=4.0.0a0,!=4.0.0a1->fsspec[http]<=2025.3.0,>=2023.1.0->datasets) (1.18.3)\n",
      "Requirement already satisfied: six>=1.5 in /Users/vincentlesang/miniconda3/envs/pythonenv/lib/python3.10/site-packages (from python-dateutil>=2.8.2->pandas->datasets) (1.16.0)\n",
      "Downloading datasets-3.6.0-py3-none-any.whl (491 kB)\n",
      "\u001b[33mWARNING: Error parsing dependencies of tensorflow-probability: [Errno 2] No such file or directory: '/Users/vincentlesang/miniconda3/envs/pythonenv/lib/python3.10/site-packages/tensorflow_probability-0.24.0.dist-info/METADATA'\u001b[0m\u001b[33m\n",
      "\u001b[0mInstalling collected packages: datasets\n",
      "  Attempting uninstall: datasets\n",
      "    Found existing installation: datasets 2.20.0\n",
      "    Uninstalling datasets-2.20.0:\n",
      "      Successfully uninstalled datasets-2.20.0\n",
      "\u001b[31mERROR: pip's dependency resolver does not currently take into account all the packages that are installed. This behaviour is the source of the following dependency conflicts.\n",
      "helical 1.3.0 requires datasets==2.20.0, but you have datasets 3.6.0 which is incompatible.\u001b[0m\u001b[31m\n",
      "\u001b[0mSuccessfully installed datasets-3.6.0\n",
      "\n",
      "\u001b[1m[\u001b[0m\u001b[34;49mnotice\u001b[0m\u001b[1;39;49m]\u001b[0m\u001b[39;49m A new release of pip is available: \u001b[0m\u001b[31;49m25.0.1\u001b[0m\u001b[39;49m -> \u001b[0m\u001b[32;49m25.1.1\u001b[0m\n",
      "\u001b[1m[\u001b[0m\u001b[34;49mnotice\u001b[0m\u001b[1;39;49m]\u001b[0m\u001b[39;49m To update, run: \u001b[0m\u001b[32;49mpip install --upgrade pip\u001b[0m\n"
     ]
    }
   ],
   "source": [
    "!pip install datasets --upgrade"
   ]
  },
  {
   "cell_type": "code",
   "execution_count": 5,
   "metadata": {
    "colab": {
     "base_uri": "https://localhost:8080/"
    },
    "id": "aDf6LsRIZ80C",
    "outputId": "b7ef3182-a30f-4946-a2d5-72b6c9082b87"
   },
   "outputs": [
    {
     "name": "stderr",
     "output_type": "stream",
     "text": [
      "WARNING:py.warnings:/Users/vincentlesang/miniconda3/envs/pythonenv/lib/python3.10/site-packages/helical/models/scgpt/model_dir/model.py:24: UserWarning: flash_attn is not installed\n",
      "  warnings.warn(\"flash_attn is not installed\")\n",
      "\n",
      "WARNING:helical.models.scgpt.model_dir.multiomic_model:flash_attn is not installed.\n"
     ]
    }
   ],
   "source": [
    "from sklearn.metrics import accuracy_score, precision_score, f1_score, recall_score\n",
    "from sklearn.preprocessing import LabelEncoder\n",
    "import numpy as np\n",
    "import pandas as pd\n",
    "from sklearn.model_selection import train_test_split\n",
    "import anndata as ad\n",
    "import torch\n",
    "from torch.utils.data import DataLoader, TensorDataset\n",
    "from torch import nn\n",
    "from scipy.sparse import lil_matrix\n",
    "import torch.optim as optim\n",
    "from helical.models.scgpt import scGPT, scGPTConfig\n",
    "from helical.models.geneformer import Geneformer, GeneformerConfig\n",
    "from copy import deepcopy   \n",
    "from torch.nn.functional import one_hot"
   ]
  },
  {
   "cell_type": "markdown",
   "metadata": {},
   "source": [
    "We load the our dataset from the EMBL [website](https://www.ebi.ac.uk/biostudies/arrayexpress/studies/E-MTAB-11673). To download the dataset, we are leveraging Huggingface's optimized library!"
   ]
  },
  {
   "cell_type": "code",
   "execution_count": 3,
   "metadata": {},
   "outputs": [
    {
     "data": {
      "application/vnd.jupyter.widget-view+json": {
       "model_id": "b242089b07ba431fa0ff7aa47787af4a",
       "version_major": 2,
       "version_minor": 0
      },
      "text/plain": [
       "README.md: 0.00B [00:00, ?B/s]"
      ]
     },
     "metadata": {},
     "output_type": "display_data"
    },
    {
     "data": {
      "application/vnd.jupyter.widget-view+json": {
       "model_id": "fa448a8fbda445c2a1a2e5b346335d2b",
       "version_major": 2,
       "version_minor": 0
      },
      "text/plain": [
       "yolksac_human.py: 0.00B [00:00, ?B/s]"
      ]
     },
     "metadata": {},
     "output_type": "display_data"
    },
    {
     "data": {
      "application/vnd.jupyter.widget-view+json": {
       "model_id": "86bb0b8f42ab42b68b73dd78e61ebf59",
       "version_major": 2,
       "version_minor": 0
      },
      "text/plain": [
       "17_04_24_YolkSacRaw_F158_WE_annots.h5ad:   0%|          | 0.00/553M [00:00<?, ?B/s]"
      ]
     },
     "metadata": {},
     "output_type": "display_data"
    },
    {
     "data": {
      "application/vnd.jupyter.widget-view+json": {
       "model_id": "c1716d613ea7483cbb2b6452136cd1be",
       "version_major": 2,
       "version_minor": 0
      },
      "text/plain": [
       "Generating train split: 0 examples [00:00, ? examples/s]"
      ]
     },
     "metadata": {},
     "output_type": "display_data"
    },
    {
     "data": {
      "application/vnd.jupyter.widget-view+json": {
       "model_id": "5ae106f61be4428b94d7fa19548f0ffd",
       "version_major": 2,
       "version_minor": 0
      },
      "text/plain": [
       "Generating test split: 0 examples [00:00, ? examples/s]"
      ]
     },
     "metadata": {},
     "output_type": "display_data"
    }
   ],
   "source": [
    "from datasets import load_dataset\n",
    "ds = load_dataset(\"helical-ai/yolksac_human\",trust_remote_code=True, split=\"train[:65%]\",download_mode=\"reuse_cache_if_exists\")"
   ]
  },
  {
   "cell_type": "code",
   "execution_count": 6,
   "metadata": {
    "colab": {
     "base_uri": "https://localhost:8080/"
    },
    "id": "TpvpV2yZpZBO",
    "outputId": "0caaa74e-f0ff-4122-bd27-32af6d85d155"
   },
   "outputs": [
    {
     "name": "stderr",
     "output_type": "stream",
     "text": [
      "WARNING:py.warnings:/Users/vincentlesang/miniconda3/envs/pythonenv/lib/python3.10/site-packages/anndata/_core/aligned_df.py:68: ImplicitModificationWarning: Transforming to str index.\n",
      "  warnings.warn(\"Transforming to str index.\", ImplicitModificationWarning)\n",
      "\n"
     ]
    }
   ],
   "source": [
    "observation_columns = [obs for obs in list(ds.features.keys()) if not obs == 'raw_counts']\n",
    "obs_data = pd.DataFrame(ds.select_columns(observation_columns).data.to_pandas(),columns=observation_columns)\n",
    "lil = lil_matrix((len(ds),ds[0]['size']))\n",
    "lil.data = np.array(ds['raw_counts'],dtype=\"object\")\n",
    "lil.rows = np.array(ds['rows'],dtype=\"object\")\n",
    "adata = ad.AnnData(lil.tocsr(),obs=obs_data)\n",
    "adata.var_names = ds.features['raw_counts'].id.split(\",\")\n",
    "adata.var['gene_name'] = adata.var_names.str.upper()"
   ]
  },
  {
   "cell_type": "markdown",
   "metadata": {
    "id": "XME3WOUl-BSf"
   },
   "source": [
    "Let's familiarise ourselves with the data!\n",
    "\n",
    "We are interested in the names of the cells we want to predict. They are saved in `adata.obs[\"LVL1\"]`.\n",
    "\n",
    "Additionally, we need to know how many distinct cell types/classes we have."
   ]
  },
  {
   "cell_type": "code",
   "execution_count": 7,
   "metadata": {
    "id": "sjo5qHPFw0HY"
   },
   "outputs": [],
   "source": [
    "# get labels: the celltype\n",
    "num_types = adata.obs[\"LVL1\"].unique().shape[0]\n",
    "id2type = dict(enumerate(adata.obs[\"LVL1\"].astype(\"category\").cat.categories))\n",
    "\n",
    "celltypes_labels = np.array(adata.obs[\"LVL1\"].tolist())"
   ]
  },
  {
   "cell_type": "markdown",
   "metadata": {
    "id": "VzPLNqRr-BSg"
   },
   "source": [
    "This is all summarized in this dictionary:"
   ]
  },
  {
   "cell_type": "code",
   "execution_count": 8,
   "metadata": {
    "colab": {
     "base_uri": "https://localhost:8080/"
    },
    "id": "_j-x6weFm6UO",
    "outputId": "5d0c52f1-553e-460f-def7-7cf372b9bc89"
   },
   "outputs": [
    {
     "data": {
      "text/plain": [
       "{0: 'ERYTHROID',\n",
       " 1: 'LYMPHOID',\n",
       " 2: 'MK',\n",
       " 3: 'MYELOID',\n",
       " 4: 'PROGENITOR',\n",
       " 5: 'STROMA'}"
      ]
     },
     "execution_count": 8,
     "metadata": {},
     "output_type": "execute_result"
    }
   ],
   "source": [
    "id2type"
   ]
  },
  {
   "cell_type": "markdown",
   "metadata": {
    "id": "HayHZKTC-BSi"
   },
   "source": [
    "Use the Helical package to get the embeddings of the gene expression profile.\n",
    "\n",
    "The only thing we need to specify is the column containing the names of the genes. (`gene_name` in this case)\n",
    "\n",
    "The resulting embeddings are the input features `x` for our smaller NN model."
   ]
  },
  {
   "cell_type": "markdown",
   "metadata": {
    "id": "_cXrEgxHC-Wi"
   },
   "source": [
    "# scGPT"
   ]
  },
  {
   "cell_type": "code",
   "execution_count": 9,
   "metadata": {
    "colab": {
     "base_uri": "https://localhost:8080/"
    },
    "id": "t0hNoTJdw0Ha",
    "outputId": "26c17bfa-13de-4ccb-beb4-a725a40dd97f"
   },
   "outputs": [
    {
     "name": "stderr",
     "output_type": "stream",
     "text": [
      "INFO:helical.utils.downloader:Creating Folder /Users/vincentlesang/.cache/helical/models/scgpt/scGPT_CP\n",
      "INFO:helical.utils.downloader:File does not exist or has incorrect hash. Starting to download: 'https://helicalpackage.blob.core.windows.net/helicalpackage/data/scgpt/scGPT_CP/vocab.json'\n",
      "Downloading: 100%|██████████| 1.32M/1.32M [00:00<00:00, 2.03MB/s]\n",
      "INFO:helical.utils.downloader:File saved to: '/Users/vincentlesang/.cache/helical/models/scgpt/scGPT_CP/vocab.json'\n",
      "INFO:helical.utils.downloader:File does not exist or has incorrect hash. Starting to download: 'https://helicalpackage.blob.core.windows.net/helicalpackage/data/scgpt/scGPT_CP/best_model.pt'\n",
      "Downloading: 100%|██████████| 208M/208M [01:53<00:00, 1.84MB/s] \n",
      "INFO:helical.utils.downloader:File saved to: '/Users/vincentlesang/.cache/helical/models/scgpt/scGPT_CP/best_model.pt'\n",
      "WARNING:py.warnings:/Users/vincentlesang/miniconda3/envs/pythonenv/lib/python3.10/site-packages/helical/models/scgpt/model_dir/transformer.py:135: UserWarning: enable_nested_tensor is True, but self.use_nested_tensor is False because encoder_layer was not TransformerEncoderLayer\n",
      "  warnings.warn(\n",
      "\n",
      "INFO:helical.models.scgpt.model:Model finished initializing.\n",
      "INFO:helical.models.scgpt.model:'scGPT' model is in 'eval' mode, on device 'cpu' with embedding mode 'cell'.\n",
      "INFO:helical.models.scgpt.model:Processing data for scGPT.\n",
      "INFO:helical.models.scgpt.model:Filtering out 11163 genes to a total of 26155 genes with an ID in the scGPT vocabulary.\n",
      "INFO:helical.models.scgpt.model:Successfully processed the data for scGPT.\n",
      "INFO:helical.models.scgpt.model:Started getting embeddings:\n",
      "WARNING:py.warnings:/Users/vincentlesang/miniconda3/envs/pythonenv/lib/python3.10/site-packages/helical/models/scgpt/model.py:151: FutureWarning: `torch.cuda.amp.autocast(args...)` is deprecated. Please use `torch.amp.autocast('cuda', args...)` instead.\n",
      "  torch.cuda.amp.autocast(enabled=True),\n",
      "\n",
      "WARNING:py.warnings:/Users/vincentlesang/miniconda3/envs/pythonenv/lib/python3.10/site-packages/torch/amp/autocast_mode.py:266: UserWarning: User provided device_type of 'cuda', but CUDA is not available. Disabling\n",
      "  warnings.warn(\n",
      "\n",
      "Embedding cells: 100%|██████████| 330/330 [3:04:34<00:00, 33.56s/it]  \n",
      "INFO:helical.models.scgpt.model:Finished getting embeddings.\n"
     ]
    },
    {
     "data": {
      "text/plain": [
       "(16474, 512)"
      ]
     },
     "execution_count": 9,
     "metadata": {},
     "output_type": "execute_result"
    }
   ],
   "source": [
    "device = \"cuda\" if torch.cuda.is_available() else \"cpu\"\n",
    "\n",
    "scgpt_config = scGPTConfig(batch_size=50, device=device)\n",
    "scgpt = scGPT(configurer = scgpt_config)\n",
    "data = scgpt.process_data(adata, gene_names = \"gene_name\")\n",
    "x_scgpt = scgpt.get_embeddings(data)\n",
    "x_scgpt.shape"
   ]
  },
  {
   "cell_type": "markdown",
   "metadata": {
    "id": "YxtVwacW-BSj"
   },
   "source": [
    "With the input features, we also need the corresponding labels `y`.\n",
    "\n",
    "They correspond to the cell type labels.\n",
    "\n",
    "As we have a categorical prediction, we transform the cell type labels to integer labels to work with CrossEntropyLoss later."
   ]
  },
  {
   "cell_type": "code",
   "execution_count": 10,
   "metadata": {
    "colab": {
     "base_uri": "https://localhost:8080/"
    },
    "id": "zHMZ7VX8m6UQ",
    "outputId": "d40c15bd-4ea5-4821-def3-7f253a3af469"
   },
   "outputs": [],
   "source": [
    "y = celltypes_labels\n",
    "num_classes = num_types\n",
    "\n",
    "encoder = LabelEncoder()\n",
    "y_encoded = encoder.fit_transform(y)\n",
    "y_encoded = one_hot(torch.tensor(y_encoded),num_classes).float()"
   ]
  },
  {
   "cell_type": "markdown",
   "metadata": {
    "id": "wQpfYP2z-BSk"
   },
   "source": [
    "## Define and train the model"
   ]
  },
  {
   "cell_type": "code",
   "execution_count": 11,
   "metadata": {
    "colab": {
     "base_uri": "https://localhost:8080/"
    },
    "id": "iVtFwjSp4rgs",
    "outputId": "4b68dd99-6615-4912-97bb-8267135c40d5"
   },
   "outputs": [
    {
     "name": "stdout",
     "output_type": "stream",
     "text": [
      "Sequential(\n",
      "  (0): Linear(in_features=512, out_features=128, bias=True)\n",
      "  (1): ReLU()\n",
      "  (2): Dropout(p=0.4, inplace=False)\n",
      "  (3): Linear(in_features=128, out_features=32, bias=True)\n",
      "  (4): ReLU()\n",
      "  (5): Dropout(p=0.4, inplace=False)\n",
      "  (6): Linear(in_features=32, out_features=6, bias=True)\n",
      ")\n"
     ]
    }
   ],
   "source": [
    "input_shape = 512\n",
    "\n",
    "# Define the model architecture\n",
    "head_model = nn.Sequential(\n",
    "    nn.Linear(input_shape, 128),\n",
    "    nn.ReLU(),\n",
    "    nn.Dropout(0.4),\n",
    "    nn.Linear(128, 32),\n",
    "    nn.ReLU(),\n",
    "    nn.Dropout(0.4),\n",
    "    nn.Linear(32, num_classes)\n",
    "    )\n",
    "\n",
    "print(head_model)"
   ]
  },
  {
   "cell_type": "code",
   "execution_count": 12,
   "metadata": {},
   "outputs": [],
   "source": [
    "def train_model(model: nn.Sequential,\n",
    "                X_train: torch.Tensor,  \n",
    "                y_train: torch.Tensor,  \n",
    "                X_val: torch.Tensor, \n",
    "                y_val: torch.Tensor, \n",
    "                optimizer = optim.Adam, \n",
    "                loss_fn = nn.CrossEntropyLoss(),\n",
    "                num_epochs = 50, \n",
    "                batch = 64):    \n",
    "\n",
    "    # Create DataLoader for batching\n",
    "    train_dataset = TensorDataset(X_train, y_train)\n",
    "    train_loader = DataLoader(train_dataset, batch_size=batch, shuffle=True)\n",
    "\n",
    "    # Validation dataset\n",
    "    val_dataset = TensorDataset(X_val, y_val)\n",
    "    val_loader = DataLoader(val_dataset, batch_size=batch, shuffle=False)\n",
    "\n",
    "    # Ensure model is in training mode\n",
    "    model.train()\n",
    "\n",
    "    for epoch in range(num_epochs):\n",
    "        for batch_X, batch_y in train_loader:\n",
    "            # Zero the parameter gradients\n",
    "            optimizer.zero_grad()\n",
    "            \n",
    "            # Forward pass\n",
    "            outputs = model(batch_X)\n",
    "            \n",
    "            # Compute loss\n",
    "            loss = loss_fn(outputs, batch_y)\n",
    "            \n",
    "            # Backward pass and optimize\n",
    "            loss.backward()\n",
    "            optimizer.step()\n",
    "            optimizer.zero_grad()\n",
    "        \n",
    "        # Validation phase (optional)\n",
    "        model.eval()\n",
    "        with torch.no_grad():\n",
    "            val_losses = []\n",
    "            for val_X, val_y in val_loader:\n",
    "                val_outputs = model(val_X)\n",
    "                val_loss = loss_fn(val_outputs, val_y)\n",
    "                val_losses.append(val_loss.item())\n",
    "            \n",
    "            print(f\"Epoch {epoch+1}, Validation Loss: {sum(val_losses)/len(val_losses)}\")\n",
    "        \n",
    "        # Set back to training mode for next epoch\n",
    "        model.train()\n",
    "        \n",
    "    model.eval()   \n",
    "    return model"
   ]
  },
  {
   "cell_type": "code",
   "execution_count": 13,
   "metadata": {
    "colab": {
     "base_uri": "https://localhost:8080/"
    },
    "id": "m_MksIuNw0Hb",
    "outputId": "1c316b1e-87b3-4ad5-d283-e6e810c44d19"
   },
   "outputs": [
    {
     "name": "stdout",
     "output_type": "stream",
     "text": [
      "Epoch 1, Validation Loss: 0.1309230921503443\n",
      "Epoch 2, Validation Loss: 0.10196946908791478\n",
      "Epoch 3, Validation Loss: 0.09614369690489884\n",
      "Epoch 4, Validation Loss: 0.08985606059790231\n",
      "Epoch 5, Validation Loss: 0.08673078652757865\n",
      "Epoch 6, Validation Loss: 0.08571391683430053\n",
      "Epoch 7, Validation Loss: 0.08358878660230683\n",
      "Epoch 8, Validation Loss: 0.07609912980562793\n",
      "Epoch 9, Validation Loss: 0.07561266689131466\n",
      "Epoch 10, Validation Loss: 0.07310793340618077\n",
      "Epoch 11, Validation Loss: 0.06631089514121413\n",
      "Epoch 12, Validation Loss: 0.06766846877648137\n",
      "Epoch 13, Validation Loss: 0.05995970704736045\n",
      "Epoch 14, Validation Loss: 0.0697791625593359\n",
      "Epoch 15, Validation Loss: 0.05840281322777558\n",
      "Epoch 16, Validation Loss: 0.05757036879479598\n",
      "Epoch 17, Validation Loss: 0.0527130548367635\n",
      "Epoch 18, Validation Loss: 0.05480946364248386\n",
      "Epoch 19, Validation Loss: 0.052918880783881135\n",
      "Epoch 20, Validation Loss: 0.0529163066233965\n",
      "Epoch 21, Validation Loss: 0.046819963718567476\n",
      "Epoch 22, Validation Loss: 0.052308192904232644\n",
      "Epoch 23, Validation Loss: 0.046795044864456244\n",
      "Epoch 24, Validation Loss: 0.04704568383077948\n",
      "Epoch 25, Validation Loss: 0.04700824279839603\n",
      "Epoch 26, Validation Loss: 0.04444492497266485\n",
      "Epoch 27, Validation Loss: 0.0409059793365976\n",
      "Epoch 28, Validation Loss: 0.041478190217346236\n",
      "Epoch 29, Validation Loss: 0.043145219542426415\n",
      "Epoch 30, Validation Loss: 0.0406885930950431\n",
      "Epoch 31, Validation Loss: 0.042180044057134256\n",
      "Epoch 32, Validation Loss: 0.0452021909004543\n",
      "Epoch 33, Validation Loss: 0.04432795196547746\n",
      "Epoch 34, Validation Loss: 0.04491281783870923\n",
      "Epoch 35, Validation Loss: 0.04074778727282627\n",
      "Epoch 36, Validation Loss: 0.048499383932301916\n",
      "Epoch 37, Validation Loss: 0.039335171405512556\n",
      "Epoch 38, Validation Loss: 0.044350983337118614\n",
      "Epoch 39, Validation Loss: 0.04377935069854944\n",
      "Epoch 40, Validation Loss: 0.040690223441253275\n",
      "Epoch 41, Validation Loss: 0.05316014987105378\n",
      "Epoch 42, Validation Loss: 0.04548597618346461\n",
      "Epoch 43, Validation Loss: 0.04465841072557781\n",
      "Epoch 44, Validation Loss: 0.04674085232601591\n",
      "Epoch 45, Validation Loss: 0.0422340889815062\n",
      "Epoch 46, Validation Loss: 0.05079377537409668\n",
      "Epoch 47, Validation Loss: 0.04632163163366316\n",
      "Epoch 48, Validation Loss: 0.0416587340452959\n",
      "Epoch 49, Validation Loss: 0.04146886038114854\n",
      "Epoch 50, Validation Loss: 0.04998817193980078\n"
     ]
    }
   ],
   "source": [
    "X_train, X_test, y_train, y_test = train_test_split(x_scgpt, y_encoded, test_size=0.1, random_state=42)\n",
    "\n",
    "head_model_scgpt = deepcopy(head_model)\n",
    "head_model_scgpt = train_model(head_model_scgpt, \n",
    "                               torch.from_numpy(X_train), \n",
    "                               y_train, \n",
    "                               torch.from_numpy(X_test), \n",
    "                               y_test,\n",
    "                               optim.Adam(head_model_scgpt.parameters(), lr=0.001),\n",
    "                               nn.CrossEntropyLoss())"
   ]
  },
  {
   "cell_type": "code",
   "execution_count": 14,
   "metadata": {
    "colab": {
     "base_uri": "https://localhost:8080/"
    },
    "id": "UX4bwC0xw0Hc",
    "outputId": "d726323c-ce91-4be6-a09c-608f1dda4bd7"
   },
   "outputs": [],
   "source": [
    "predictions_nn = head_model_scgpt(torch.Tensor(X_test))\n",
    "y_pred = np.array(torch.argmax(predictions_nn, dim=1))\n",
    "y_true = np.array(y_test.argmax(axis=1))"
   ]
  },
  {
   "cell_type": "code",
   "execution_count": 15,
   "metadata": {},
   "outputs": [],
   "source": [
    "#Save model parameters\n",
    "torch.save(head_model_scgpt.state_dict(), \"head_model_scgpt.pth\")"
   ]
  },
  {
   "cell_type": "markdown",
   "metadata": {
    "id": "Uy8_LASN-BSl"
   },
   "source": [
    "## Present the results\n",
    "- on the test set and,\n",
    "- a separate, unseen evaluation set"
   ]
  },
  {
   "cell_type": "code",
   "execution_count": 16,
   "metadata": {
    "id": "_Lkv-mfDuKUP"
   },
   "outputs": [],
   "source": [
    "def get_evaluations(name_data_set, y_true, y_pred) -> dict:\n",
    "  accuracy = accuracy_score(y_true, y_pred)\n",
    "  precision = precision_score(y_true, y_pred, average='macro')\n",
    "  f1 = f1_score(y_true, y_pred, average='macro')\n",
    "  recall = recall_score(y_true, y_pred, average='macro')\n",
    "  print(f\"{name_data_set} accuracy: {(accuracy*100):.1f}%\")\n",
    "  print(f\"{name_data_set} precision: {(precision*100):.1f}%\")\n",
    "  print(f\"{name_data_set} f1: {(f1*100):.1f}%\")\n",
    "  print(f\"{name_data_set} recall: {(recall*100):.1f}%\")\n",
    "  return {\n",
    "      \"accuracy\": accuracy,\n",
    "      \"precision\": precision,\n",
    "      \"f1\": f1,\n",
    "      \"recall\": recall,\n",
    "  }"
   ]
  },
  {
   "cell_type": "code",
   "execution_count": 17,
   "metadata": {
    "colab": {
     "base_uri": "https://localhost:8080/"
    },
    "id": "q3THhrm7uS99",
    "outputId": "6737b828-df9c-4507-c577-80082247918b"
   },
   "outputs": [
    {
     "name": "stderr",
     "output_type": "stream",
     "text": [
      "WARNING:py.warnings:/Users/vincentlesang/miniconda3/envs/pythonenv/lib/python3.10/site-packages/sklearn/metrics/_classification.py:1531: UndefinedMetricWarning: Precision is ill-defined and being set to 0.0 in labels with no predicted samples. Use `zero_division` parameter to control this behavior.\n",
      "  _warn_prf(average, modifier, f\"{metric.capitalize()} is\", len(result))\n",
      "\n"
     ]
    },
    {
     "name": "stdout",
     "output_type": "stream",
     "text": [
      "Test set accuracy: 99.1%\n",
      "Test set precision: 80.2%\n",
      "Test set f1: 80.2%\n",
      "Test set recall: 80.4%\n"
     ]
    },
    {
     "data": {
      "text/plain": [
       "{'accuracy': 0.9908980582524272,\n",
       " 'precision': 0.8021415718784141,\n",
       " 'f1': 0.8023906958907284,\n",
       " 'recall': 0.8042932081844206}"
      ]
     },
     "execution_count": 17,
     "metadata": {},
     "output_type": "execute_result"
    }
   ],
   "source": [
    "get_evaluations(\"Test set\", y_true, y_pred)"
   ]
  },
  {
   "cell_type": "markdown",
   "metadata": {
    "id": "PGwcZiNaLkBv"
   },
   "source": [
    "Load the unseen evaluation set:"
   ]
  },
  {
   "cell_type": "code",
   "execution_count": 18,
   "metadata": {},
   "outputs": [
    {
     "data": {
      "application/vnd.jupyter.widget-view+json": {
       "model_id": "73f77fc0173f4ef381047d59679bd393",
       "version_major": 2,
       "version_minor": 0
      },
      "text/plain": [
       "Generating train split:   0%|          | 0/25344 [00:00<?, ? examples/s]"
      ]
     },
     "metadata": {},
     "output_type": "display_data"
    },
    {
     "data": {
      "application/vnd.jupyter.widget-view+json": {
       "model_id": "2d835391e1c24c0e9a8a42781fbbb88a",
       "version_major": 2,
       "version_minor": 0
      },
      "text/plain": [
       "Generating test split:   0%|          | 0/6336 [00:00<?, ? examples/s]"
      ]
     },
     "metadata": {},
     "output_type": "display_data"
    }
   ],
   "source": [
    "ds = load_dataset(\"helical-ai/yolksac_human\",trust_remote_code=True, split=\"train[70%:]\",download_mode=\"reuse_cache_if_exists\")"
   ]
  },
  {
   "cell_type": "code",
   "execution_count": 19,
   "metadata": {},
   "outputs": [
    {
     "name": "stderr",
     "output_type": "stream",
     "text": [
      "WARNING:py.warnings:/Users/vincentlesang/miniconda3/envs/pythonenv/lib/python3.10/site-packages/anndata/_core/aligned_df.py:68: ImplicitModificationWarning: Transforming to str index.\n",
      "  warnings.warn(\"Transforming to str index.\", ImplicitModificationWarning)\n",
      "\n"
     ]
    }
   ],
   "source": [
    "observation_columns = [obs for obs in list(ds.features.keys()) if not obs == 'raw_counts']\n",
    "obs_data = pd.DataFrame(ds.select_columns(observation_columns).data.to_pandas(),columns=observation_columns)\n",
    "lil = lil_matrix((len(ds),ds[0]['size']))\n",
    "lil.data = np.array(ds['raw_counts'],dtype=\"object\")\n",
    "lil.rows = np.array(ds['rows'],dtype=\"object\")\n",
    "adata_unseen = ad.AnnData(lil.tocsr(),obs=obs_data)\n",
    "adata_unseen.var_names = ds.features['raw_counts'].id.split(\",\")\n",
    "adata_unseen.var['gene_name'] = adata_unseen.var_names.str.upper()"
   ]
  },
  {
   "cell_type": "code",
   "execution_count": 20,
   "metadata": {
    "colab": {
     "base_uri": "https://localhost:8080/"
    },
    "id": "18bomcpxlxtY",
    "outputId": "ab17404e-20c0-4590-b730-492de07e55bd"
   },
   "outputs": [
    {
     "name": "stderr",
     "output_type": "stream",
     "text": [
      "INFO:helical.models.scgpt.model:Processing data for scGPT.\n",
      "INFO:helical.models.scgpt.model:Filtering out 11163 genes to a total of 26155 genes with an ID in the scGPT vocabulary.\n",
      "INFO:helical.models.scgpt.model:Successfully processed the data for scGPT.\n",
      "INFO:helical.models.scgpt.model:Started getting embeddings:\n",
      "WARNING:py.warnings:/Users/vincentlesang/miniconda3/envs/pythonenv/lib/python3.10/site-packages/helical/models/scgpt/model.py:151: FutureWarning: `torch.cuda.amp.autocast(args...)` is deprecated. Please use `torch.amp.autocast('cuda', args...)` instead.\n",
      "  torch.cuda.amp.autocast(enabled=True),\n",
      "\n",
      "WARNING:py.warnings:/Users/vincentlesang/miniconda3/envs/pythonenv/lib/python3.10/site-packages/torch/amp/autocast_mode.py:266: UserWarning: User provided device_type of 'cuda', but CUDA is not available. Disabling\n",
      "  warnings.warn(\n",
      "\n",
      "Embedding cells: 100%|██████████| 153/153 [1:36:44<00:00, 37.94s/it]   \n",
      "INFO:helical.models.scgpt.model:Finished getting embeddings.\n"
     ]
    }
   ],
   "source": [
    "data_unseen = scgpt.process_data(adata_unseen, gene_names=\"gene_name\")\n",
    "x_unseen = scgpt.get_embeddings(data_unseen)\n",
    "predictions_nn_unseen = head_model_scgpt(torch.Tensor(x_unseen))"
   ]
  },
  {
   "cell_type": "markdown",
   "metadata": {
    "id": "CTDOE-0uLFAq"
   },
   "source": [
    "We should double check that the cell types are mapped to the correct id numbers for both the training data and this new data set."
   ]
  },
  {
   "cell_type": "code",
   "execution_count": 21,
   "metadata": {
    "colab": {
     "base_uri": "https://localhost:8080/"
    },
    "id": "h0Z6ZTBEJuuY",
    "outputId": "afab8809-b893-42fc-865d-4149f181a3ab"
   },
   "outputs": [
    {
     "data": {
      "text/plain": [
       "True"
      ]
     },
     "execution_count": 21,
     "metadata": {},
     "output_type": "execute_result"
    }
   ],
   "source": [
    "num_types = adata_unseen.obs[\"LVL1\"].unique().shape[0]\n",
    "id2type_unseen = dict(enumerate(adata_unseen.obs[\"LVL1\"].astype(\"category\").cat.categories))\n",
    "id2type_unseen == id2type"
   ]
  },
  {
   "cell_type": "code",
   "execution_count": 22,
   "metadata": {
    "colab": {
     "base_uri": "https://localhost:8080/"
    },
    "id": "loLEKJr3qZvL",
    "outputId": "32ec87e0-96d3-4d5e-a1ae-6d3244e80ddb"
   },
   "outputs": [
    {
     "name": "stderr",
     "output_type": "stream",
     "text": [
      "WARNING:py.warnings:/Users/vincentlesang/miniconda3/envs/pythonenv/lib/python3.10/site-packages/sklearn/metrics/_classification.py:1531: UndefinedMetricWarning: Precision is ill-defined and being set to 0.0 in labels with no predicted samples. Use `zero_division` parameter to control this behavior.\n",
      "  _warn_prf(average, modifier, f\"{metric.capitalize()} is\", len(result))\n",
      "\n"
     ]
    },
    {
     "name": "stdout",
     "output_type": "stream",
     "text": [
      "Evaluation set accuracy: 99.2%\n",
      "Evaluation set precision: 74.2%\n",
      "Evaluation set f1: 75.8%\n",
      "Evaluation set recall: 78.7%\n"
     ]
    }
   ],
   "source": [
    "y_true_unseen = np.array(adata_unseen.obs[\"LVL1\"].tolist())\n",
    "y_pred_unseen = [id2type[prediction] for prediction in np.array(torch.argmax(predictions_nn_unseen, dim=1))]\n",
    "\n",
    "scgpt_results = get_evaluations(\"Evaluation set\", y_true_unseen, y_pred_unseen)"
   ]
  },
  {
   "cell_type": "markdown",
   "metadata": {
    "id": "RgMbzX-z-BSm"
   },
   "source": [
    "Plot a confusion matrix to visualise the classification performance for each the cell type. This is done for the evalation set."
   ]
  },
  {
   "cell_type": "code",
   "execution_count": 23,
   "metadata": {
    "colab": {
     "base_uri": "https://localhost:8080/",
     "height": 1000
    },
    "id": "3f-apdJ4-BSm",
    "outputId": "3a195685-3539-4eb3-a90c-f029ecaf7949"
   },
   "outputs": [
    {
     "data": {
      "text/plain": [
       "<Axes: >"
      ]
     },
     "execution_count": 23,
     "metadata": {},
     "output_type": "execute_result"
    },
    {
     "data": {
      "image/png": "[encoded data removed]",
      "text/plain": [
       "<Figure size 1200x1200 with 2 Axes>"
      ]
     },
     "metadata": {},
     "output_type": "display_data"
    }
   ],
   "source": [
    "from sklearn.metrics import confusion_matrix\n",
    "import pandas as pd\n",
    "import seaborn as sns\n",
    "import matplotlib.pyplot as plt\n",
    "\n",
    "set_predicted_cell_types = list(adata_unseen.obs[\"LVL1\"].unique())\n",
    "for i in set(y_pred_unseen):\n",
    "    if i not in set_predicted_cell_types:\n",
    "        set_predicted_cell_types.remove(i)\n",
    "\n",
    "cm = confusion_matrix(y_true_unseen, y_pred_unseen)\n",
    "cm = cm.astype(\"float\") / cm.sum(axis=1)[:, np.newaxis]\n",
    "cm = pd.DataFrame(cm, index=set_predicted_cell_types[:cm.shape[0]], columns=set_predicted_cell_types[:cm.shape[1]])\n",
    "plt.figure(figsize=(12, 12))\n",
    "sns.heatmap(cm, annot=True, fmt=\".1f\", cmap=\"Blues\")"
   ]
  },
  {
   "cell_type": "markdown",
   "metadata": {
    "id": "XdG0swPrC5sh"
   },
   "source": [
    "# Geneformer"
   ]
  },
  {
   "cell_type": "markdown",
   "metadata": {},
   "source": [
    "Let's do the same with the Geneformer."
   ]
  },
  {
   "cell_type": "code",
   "execution_count": null,
   "metadata": {
    "colab": {
     "base_uri": "https://localhost:8080/",
     "height": 285,
     "referenced_widgets": [
      "9be7ad77cfbb4aebbf850bce0d703286",
      "96cf6bd80b23485a91309f97fceae386",
      "6793d6aa02fe4992b2a3079935804e68",
      "8b87146682714f9394465afb70fb6296",
      "8602ffeb4a5548f3b88e0011ff526b60",
      "dd28b99c3789438ba123044f9d8bd481",
      "11d0b1de79104633bd46099d3fc9f845",
      "b0387ec16b2346d6a690f8bd8ef7aae9",
      "0fcbdfa61d8c47499ea91c045e6bdb88",
      "475e8bc25e844eb7bda64024f6fd328b",
      "06b297ce68a54494925355922e6a3e60",
      "129fbaa5b93146839d3e095e066689b2",
      "75250bb34c7a4816bb50bab813367823",
      "18e7db16f29b4c5fb37b12b7ecabd994",
      "811ae6f2713942459f44a8ad0b78f1c8",
      "8333081f6e6844fb9872d9d14b9798f4",
      "1a9866fd593a4773a9336548d9fb4e7c",
      "6105972c9a224bb2b83c39d498d82694",
      "ac8fd8833f8b434c98ebf9de7fd7c956",
      "746baf43caea4ee2831817691b968573",
      "94072eee12234d52906f701dbaec4ea7",
      "0ba9a6eb6f0c4d63ae804a09f5d3b7a5"
     ]
    },
    "id": "5P_7jNYDqbYp",
    "outputId": "2fcd4258-77bb-47f1-94fd-6e9742f02e04"
   },
   "outputs": [
    {
     "name": "stderr",
     "output_type": "stream",
     "text": [
      "INFO:helical.utils.downloader:Creating Folder /Users/vincentlesang/.cache/helical/models/geneformer/v1\n",
      "INFO:helical.utils.downloader:File does not exist or has incorrect hash. Starting to download: 'https://helicalpackage.blob.core.windows.net/helicalpackage/data/geneformer/v1/gene_median_dictionary.pkl'\n",
      "Downloading: 100%|██████████| 941k/941k [00:00<00:00, 1.05MB/s]\n",
      "INFO:helical.utils.downloader:File saved to: '/Users/vincentlesang/.cache/helical/models/geneformer/v1/gene_median_dictionary.pkl'\n",
      "INFO:helical.utils.downloader:File does not exist or has incorrect hash. Starting to download: 'https://helicalpackage.blob.core.windows.net/helicalpackage/data/geneformer/v1/token_dictionary.pkl'\n",
      "Downloading: 100%|██████████| 788k/788k [00:00<00:00, 1.15MB/s]\n",
      "INFO:helical.utils.downloader:File saved to: '/Users/vincentlesang/.cache/helical/models/geneformer/v1/token_dictionary.pkl'\n",
      "INFO:helical.utils.downloader:File does not exist or has incorrect hash. Starting to download: 'https://helicalpackage.blob.core.windows.net/helicalpackage/data/geneformer/v1/ensembl_mapping_dict.pkl'\n",
      "Downloading: 100%|██████████| 3.96M/3.96M [00:03<00:00, 1.11MB/s]\n",
      "INFO:helical.utils.downloader:File saved to: '/Users/vincentlesang/.cache/helical/models/geneformer/v1/ensembl_mapping_dict.pkl'\n",
      "INFO:helical.utils.downloader:Creating Folder /Users/vincentlesang/.cache/helical/models/geneformer/v1/gf-12L-30M-i2048\n",
      "INFO:helical.utils.downloader:File does not exist or has incorrect hash. Starting to download: 'https://helicalpackage.blob.core.windows.net/helicalpackage/data/geneformer/v1/gf-12L-30M-i2048/config.json'\n",
      "Downloading: 100%|██████████| 567/567 [00:00<00:00, 6.01kB/s]\n",
      "INFO:helical.utils.downloader:File saved to: '/Users/vincentlesang/.cache/helical/models/geneformer/v1/gf-12L-30M-i2048/config.json'\n",
      "INFO:helical.utils.downloader:File does not exist or has incorrect hash. Starting to download: 'https://helicalpackage.blob.core.windows.net/helicalpackage/data/geneformer/v1/gf-12L-30M-i2048/training_args.bin'\n",
      "Downloading: 100%|██████████| 2.61k/2.61k [00:00<00:00, 28.7kB/s]\n",
      "INFO:helical.utils.downloader:File saved to: '/Users/vincentlesang/.cache/helical/models/geneformer/v1/gf-12L-30M-i2048/training_args.bin'\n",
      "INFO:helical.utils.downloader:File does not exist or has incorrect hash. Starting to download: 'https://helicalpackage.blob.core.windows.net/helicalpackage/data/geneformer/v1/gf-12L-30M-i2048/pytorch_model.bin'\n",
      "Downloading: 100%|██████████| 158M/158M [02:02<00:00, 1.30MB/s] \n",
      "INFO:helical.utils.downloader:File saved to: '/Users/vincentlesang/.cache/helical/models/geneformer/v1/gf-12L-30M-i2048/pytorch_model.bin'\n",
      "INFO:helical.models.geneformer.model:Model finished initializing.\n",
      "INFO:helical.models.geneformer.model:'gf-12L-30M-i2048' model is in 'eval' mode, on device 'cpu' with embedding mode 'cell'.\n",
      "INFO:helical.models.geneformer.model:Processing data for Geneformer.\n",
      "INFO:pyensembl.download_cache:Fetching /Users/vincentlesang/Library/Caches/pyensembl/GRCh38/ensembl110/Homo_sapiens.GRCh38.110.gtf.gz from URL https://ftp.ensembl.org/pub/release-110/gtf/homo_sapiens/Homo_sapiens.GRCh38.110.gtf.gz\n",
      "INFO:datacache.download:Downloading https://ftp.ensembl.org/pub/release-110/gtf/homo_sapiens/Homo_sapiens.GRCh38.110.gtf.gz to /Users/vincentlesang/Library/Caches/pyensembl/GRCh38/ensembl110/Homo_sapiens.GRCh38.110.gtf.gz\n",
      "INFO:pyensembl.download_cache:Fetching /Users/vincentlesang/Library/Caches/pyensembl/GRCh38/ensembl110/Homo_sapiens.GRCh38.cdna.all.fa.gz from URL https://ftp.ensembl.org/pub/release-110/fasta/homo_sapiens/cdna/Homo_sapiens.GRCh38.cdna.all.fa.gz\n",
      "INFO:datacache.download:Downloading https://ftp.ensembl.org/pub/release-110/fasta/homo_sapiens/cdna/Homo_sapiens.GRCh38.cdna.all.fa.gz to /Users/vincentlesang/Library/Caches/pyensembl/GRCh38/ensembl110/Homo_sapiens.GRCh38.cdna.all.fa.gz\n",
      "INFO:pyensembl.download_cache:Fetching /Users/vincentlesang/Library/Caches/pyensembl/GRCh38/ensembl110/Homo_sapiens.GRCh38.ncrna.fa.gz from URL https://ftp.ensembl.org/pub/release-110/fasta/homo_sapiens/ncrna/Homo_sapiens.GRCh38.ncrna.fa.gz\n",
      "INFO:datacache.download:Downloading https://ftp.ensembl.org/pub/release-110/fasta/homo_sapiens/ncrna/Homo_sapiens.GRCh38.ncrna.fa.gz to /Users/vincentlesang/Library/Caches/pyensembl/GRCh38/ensembl110/Homo_sapiens.GRCh38.ncrna.fa.gz\n",
      "INFO:pyensembl.download_cache:Fetching /Users/vincentlesang/Library/Caches/pyensembl/GRCh38/ensembl110/Homo_sapiens.GRCh38.pep.all.fa.gz from URL https://ftp.ensembl.org/pub/release-110/fasta/homo_sapiens/pep/Homo_sapiens.GRCh38.pep.all.fa.gz\n",
      "INFO:datacache.download:Downloading https://ftp.ensembl.org/pub/release-110/fasta/homo_sapiens/pep/Homo_sapiens.GRCh38.pep.all.fa.gz to /Users/vincentlesang/Library/Caches/pyensembl/GRCh38/ensembl110/Homo_sapiens.GRCh38.pep.all.fa.gz\n",
      "INFO:pyensembl.database:Creating database: /Users/vincentlesang/Library/Caches/pyensembl/GRCh38/ensembl110/Homo_sapiens.GRCh38.110.gtf.db\n",
      "INFO:pyensembl.database:Reading GTF from /Users/vincentlesang/Library/Caches/pyensembl/GRCh38/ensembl110/Homo_sapiens.GRCh38.110.gtf.gz\n",
      "INFO:root:Extracted GTF attributes: ['gene_id', 'gene_version', 'gene_name', 'gene_biotype', 'transcript_id', 'transcript_version', 'transcript_name', 'transcript_biotype', 'transcript_support_level', 'exon_number', 'exon_id', 'exon_version', 'protein_id', 'protein_version', 'ccds_id']\n",
      "INFO:datacache.database_helpers:Creating database /Users/vincentlesang/Library/Caches/pyensembl/GRCh38/ensembl110/Homo_sapiens.GRCh38.110.gtf.db containing: stop_codon, start_codon, exon, CDS, gene, transcript\n",
      "INFO:datacache.database:Running sqlite query: \"CREATE TABLE stop_codon (seqname TEXT NOT NULL, ccds_id TEXT NOT NULL, transcript_biotype TEXT NOT NULL, start INT NOT NULL, protein_id TEXT NOT NULL, exon_id TEXT NOT NULL, gene_id TEXT NOT NULL, end INT NOT NULL, transcript_version TEXT NOT NULL, exon_number TEXT NOT NULL, gene_version TEXT NOT NULL, transcript_name TEXT NOT NULL, transcript_id TEXT NOT NULL, gene_biotype TEXT NOT NULL, feature TEXT NOT NULL, exon_version TEXT NOT NULL, strand TEXT NOT NULL, source TEXT NOT NULL, transcript_support_level TEXT NOT NULL, protein_version TEXT NOT NULL, gene_name TEXT NOT NULL)\"\n",
      "INFO:datacache.database:Inserting 91861 rows into table stop_codon\n",
      "INFO:datacache.database:Creating index on stop_codon (seqname, start, end)\n",
      "INFO:datacache.database:Creating index on stop_codon (gene_name)\n",
      "INFO:datacache.database:Creating index on stop_codon (gene_id)\n",
      "INFO:datacache.database:Creating index on stop_codon (transcript_id)\n",
      "INFO:datacache.database:Creating index on stop_codon (transcript_name)\n",
      "INFO:datacache.database:Creating index on stop_codon (exon_id)\n",
      "INFO:datacache.database:Creating index on stop_codon (protein_id)\n",
      "INFO:datacache.database:Creating index on stop_codon (ccds_id)\n",
      "INFO:datacache.database:Running sqlite query: \"CREATE TABLE start_codon (seqname TEXT NOT NULL, ccds_id TEXT NOT NULL, transcript_biotype TEXT NOT NULL, start INT NOT NULL, protein_id TEXT NOT NULL, exon_id TEXT NOT NULL, gene_id TEXT NOT NULL, end INT NOT NULL, transcript_version TEXT NOT NULL, exon_number TEXT NOT NULL, gene_version TEXT NOT NULL, transcript_name TEXT NOT NULL, transcript_id TEXT NOT NULL, gene_biotype TEXT NOT NULL, feature TEXT NOT NULL, exon_version TEXT NOT NULL, strand TEXT NOT NULL, source TEXT NOT NULL, transcript_support_level TEXT NOT NULL, protein_version TEXT NOT NULL, gene_name TEXT NOT NULL)\"\n",
      "INFO:datacache.database:Inserting 97935 rows into table start_codon\n",
      "INFO:datacache.database:Creating index on start_codon (seqname, start, end)\n",
      "INFO:datacache.database:Creating index on start_codon (gene_name)\n",
      "INFO:datacache.database:Creating index on start_codon (gene_id)\n",
      "INFO:datacache.database:Creating index on start_codon (transcript_id)\n",
      "INFO:datacache.database:Creating index on start_codon (transcript_name)\n",
      "INFO:datacache.database:Creating index on start_codon (exon_id)\n",
      "INFO:datacache.database:Creating index on start_codon (protein_id)\n",
      "INFO:datacache.database:Creating index on start_codon (ccds_id)\n",
      "INFO:datacache.database:Running sqlite query: \"CREATE TABLE exon (seqname TEXT NOT NULL, ccds_id TEXT NOT NULL, transcript_biotype TEXT NOT NULL, start INT NOT NULL, protein_id TEXT NOT NULL, exon_id TEXT NOT NULL, gene_id TEXT NOT NULL, end INT NOT NULL, transcript_version TEXT NOT NULL, exon_number TEXT NOT NULL, gene_version TEXT NOT NULL, transcript_name TEXT NOT NULL, transcript_id TEXT NOT NULL, gene_biotype TEXT NOT NULL, feature TEXT NOT NULL, exon_version TEXT NOT NULL, strand TEXT NOT NULL, source TEXT NOT NULL, transcript_support_level TEXT NOT NULL, protein_version TEXT NOT NULL, gene_name TEXT NOT NULL)\"\n",
      "INFO:datacache.database:Inserting 1649677 rows into table exon\n",
      "INFO:datacache.database:Creating index on exon (seqname, start, end)\n",
      "INFO:datacache.database:Creating index on exon (gene_name)\n",
      "INFO:datacache.database:Creating index on exon (gene_id)\n",
      "INFO:datacache.database:Creating index on exon (transcript_id)\n",
      "INFO:datacache.database:Creating index on exon (transcript_name)\n",
      "INFO:datacache.database:Creating index on exon (exon_id)\n",
      "INFO:datacache.database:Creating index on exon (protein_id)\n",
      "INFO:datacache.database:Creating index on exon (ccds_id)\n",
      "INFO:datacache.database:Running sqlite query: \"CREATE TABLE CDS (seqname TEXT NOT NULL, ccds_id TEXT NOT NULL, transcript_biotype TEXT NOT NULL, start INT NOT NULL, protein_id TEXT NOT NULL, exon_id TEXT NOT NULL, gene_id TEXT NOT NULL, end INT NOT NULL, transcript_version TEXT NOT NULL, exon_number TEXT NOT NULL, gene_version TEXT NOT NULL, transcript_name TEXT NOT NULL, transcript_id TEXT NOT NULL, gene_biotype TEXT NOT NULL, feature TEXT NOT NULL, exon_version TEXT NOT NULL, strand TEXT NOT NULL, source TEXT NOT NULL, transcript_support_level TEXT NOT NULL, protein_version TEXT NOT NULL, gene_name TEXT NOT NULL)\"\n",
      "INFO:datacache.database:Inserting 885265 rows into table CDS\n",
      "INFO:datacache.database:Creating index on CDS (seqname, start, end)\n",
      "INFO:datacache.database:Creating index on CDS (gene_name)\n",
      "INFO:datacache.database:Creating index on CDS (gene_id)\n",
      "INFO:datacache.database:Creating index on CDS (transcript_id)\n",
      "INFO:datacache.database:Creating index on CDS (transcript_name)\n",
      "INFO:datacache.database:Creating index on CDS (exon_id)\n",
      "INFO:datacache.database:Creating index on CDS (protein_id)\n",
      "INFO:datacache.database:Creating index on CDS (ccds_id)\n",
      "INFO:datacache.database:Running sqlite query: \"CREATE TABLE gene (seqname TEXT NOT NULL, ccds_id TEXT NOT NULL, transcript_biotype TEXT NOT NULL, start INT NOT NULL, protein_id TEXT NOT NULL, exon_id TEXT NOT NULL, gene_id TEXT UNIQUE PRIMARY KEY NOT NULL, end INT NOT NULL, transcript_version TEXT NOT NULL, exon_number TEXT NOT NULL, gene_version TEXT NOT NULL, transcript_name TEXT NOT NULL, transcript_id TEXT NOT NULL, gene_biotype TEXT NOT NULL, feature TEXT NOT NULL, exon_version TEXT NOT NULL, strand TEXT NOT NULL, source TEXT NOT NULL, transcript_support_level TEXT NOT NULL, protein_version TEXT NOT NULL, gene_name TEXT NOT NULL)\"\n",
      "INFO:datacache.database:Inserting 62754 rows into table gene\n",
      "INFO:datacache.database:Creating index on gene (seqname, start, end)\n",
      "INFO:datacache.database:Creating index on gene (gene_name)\n",
      "INFO:datacache.database:Creating index on gene (transcript_id)\n",
      "INFO:datacache.database:Creating index on gene (transcript_name)\n",
      "INFO:datacache.database:Creating index on gene (exon_id)\n",
      "INFO:datacache.database:Creating index on gene (protein_id)\n",
      "INFO:datacache.database:Creating index on gene (ccds_id)\n",
      "INFO:datacache.database:Running sqlite query: \"CREATE TABLE transcript (seqname TEXT NOT NULL, ccds_id TEXT NOT NULL, transcript_biotype TEXT NOT NULL, start INT NOT NULL, protein_id TEXT NOT NULL, exon_id TEXT NOT NULL, gene_id TEXT NOT NULL, end INT NOT NULL, transcript_version TEXT NOT NULL, exon_number TEXT NOT NULL, gene_version TEXT NOT NULL, transcript_name TEXT NOT NULL, transcript_id TEXT UNIQUE PRIMARY KEY NOT NULL, gene_biotype TEXT NOT NULL, feature TEXT NOT NULL, exon_version TEXT NOT NULL, strand TEXT NOT NULL, source TEXT NOT NULL, transcript_support_level TEXT NOT NULL, protein_version TEXT NOT NULL, gene_name TEXT NOT NULL)\"\n",
      "INFO:datacache.database:Inserting 252894 rows into table transcript\n",
      "INFO:datacache.database:Creating index on transcript (seqname, start, end)\n",
      "INFO:datacache.database:Creating index on transcript (gene_name)\n",
      "INFO:datacache.database:Creating index on transcript (gene_id)\n",
      "INFO:datacache.database:Creating index on transcript (transcript_name)\n",
      "INFO:datacache.database:Creating index on transcript (exon_id)\n",
      "INFO:datacache.database:Creating index on transcript (protein_id)\n",
      "INFO:datacache.database:Creating index on transcript (ccds_id)\n",
      "INFO:datacache.database:Running sqlite query: \"CREATE TABLE _datacache_metadata (version INT)\"\n",
      "INFO:datacache.database:Running sqlite query: \"INSERT INTO _datacache_metadata VALUES (3)\"\n",
      "INFO:pyensembl.sequence_data:Parsing sequences from FASTA file at /Users/vincentlesang/Library/Caches/pyensembl/GRCh38/ensembl110/Homo_sapiens.GRCh38.cdna.all.fa.gz\n",
      "INFO:pyensembl.sequence_data:Saving sequence dictionary to /Users/vincentlesang/Library/Caches/pyensembl/GRCh38/ensembl110/Homo_sapiens.GRCh38.cdna.all.fa.gz.pickle\n",
      "INFO:pyensembl.sequence_data:Parsing sequences from FASTA file at /Users/vincentlesang/Library/Caches/pyensembl/GRCh38/ensembl110/Homo_sapiens.GRCh38.ncrna.fa.gz\n",
      "INFO:pyensembl.sequence_data:Saving sequence dictionary to /Users/vincentlesang/Library/Caches/pyensembl/GRCh38/ensembl110/Homo_sapiens.GRCh38.ncrna.fa.gz.pickle\n",
      "INFO:pyensembl.sequence_data:Parsing sequences from FASTA file at /Users/vincentlesang/Library/Caches/pyensembl/GRCh38/ensembl110/Homo_sapiens.GRCh38.pep.all.fa.gz\n",
      "INFO:pyensembl.sequence_data:Saving sequence dictionary to /Users/vincentlesang/Library/Caches/pyensembl/GRCh38/ensembl110/Homo_sapiens.GRCh38.pep.all.fa.gz.pickle\n",
      "INFO:helical.utils.mapping:Mapped 21111 genes to Ensembl IDs from a total of 37318 genes.\n",
      "INFO:helical.models.geneformer.geneformer_tokenizer:AnnData object with n_obs × n_vars = 16474 × 37318\n",
      "    obs: 'rows', 'size', 'LVL1', 'LVL2', 'LVL3', 'total_counts'\n",
      "    var: 'gene_name', 'id_in_vocab', 'ensembl_id', 'gene_ids_collapsed' has no column attribute 'filter_pass'; tokenizing all cells.\n",
      "INFO:helical.models.geneformer.geneformer_tokenizer:Creating dataset.\n"
     ]
    },
    {
     "data": {
      "application/vnd.jupyter.widget-view+json": {
       "model_id": "9faaffa7ebf54d34903c2b40d50d0406",
       "version_major": 2,
       "version_minor": 0
      },
      "text/plain": [
       "Map:   0%|          | 0/16474 [00:00<?, ? examples/s]"
      ]
     },
     "metadata": {},
     "output_type": "display_data"
    },
    {
     "name": "stderr",
     "output_type": "stream",
     "text": [
      "INFO:helical.models.geneformer.model:Successfully processed the data for Geneformer.\n",
      "INFO:helical.models.geneformer.model:Started getting embeddings:\n"
     ]
    },
    {
     "data": {
      "application/vnd.jupyter.widget-view+json": {
       "model_id": "bc7e988550fa42178af1054446e6646b",
       "version_major": 2,
       "version_minor": 0
      },
      "text/plain": [
       "  0%|          | 0/330 [00:00<?, ?it/s]"
      ]
     },
     "metadata": {},
     "output_type": "display_data"
    }
   ],
   "source": [
    "device = \"cuda\" if torch.cuda.is_available() else \"cpu\"\n",
    "if 'rows' in adata.obs:\n",
    "    adata.obs['rows'] = adata.obs['rows'].astype(str)\n",
    "geneformer_config = GeneformerConfig(batch_size=50, device=device)\n",
    "geneformer = Geneformer(configurer = geneformer_config)\n",
    "\n",
    "data_geneformer = geneformer.process_data(adata, gene_names = \"gene_name\")\n",
    "x_geneformer = geneformer.get_embeddings(data_geneformer)\n",
    "x_geneformer.shape"
   ]
  },
  {
   "cell_type": "code",
   "execution_count": 23,
   "metadata": {
    "colab": {
     "base_uri": "https://localhost:8080/"
    },
    "id": "ITj-Gd-TDIcu",
    "outputId": "4946c091-3340-4332-e208-2ab2fc46f15e"
   },
   "outputs": [
    {
     "name": "stdout",
     "output_type": "stream",
     "text": [
      "Epoch 1, Validation Loss: 0.21696129383949134\n",
      "Epoch 2, Validation Loss: 0.10857223622644177\n",
      "Epoch 3, Validation Loss: 0.09659991732153755\n",
      "Epoch 4, Validation Loss: 0.09191516814126562\n",
      "Epoch 5, Validation Loss: 0.08651317040829991\n",
      "Epoch 6, Validation Loss: 0.08288597050033367\n",
      "Epoch 7, Validation Loss: 0.07626076801142727\n",
      "Epoch 8, Validation Loss: 0.07917614357295231\n",
      "Epoch 9, Validation Loss: 0.07136841879065077\n",
      "Epoch 10, Validation Loss: 0.07527488532426875\n",
      "Epoch 11, Validation Loss: 0.06889283100966938\n",
      "Epoch 12, Validation Loss: 0.07603136524546873\n",
      "Epoch 13, Validation Loss: 0.07237893132080969\n",
      "Epoch 14, Validation Loss: 0.0707903919716885\n",
      "Epoch 15, Validation Loss: 0.06682811810214144\n",
      "Epoch 16, Validation Loss: 0.06787337761488743\n",
      "Epoch 17, Validation Loss: 0.06565282110554668\n",
      "Epoch 18, Validation Loss: 0.07381324346072059\n",
      "Epoch 19, Validation Loss: 0.0704241120183724\n",
      "Epoch 20, Validation Loss: 0.06702452171773005\n",
      "Epoch 21, Validation Loss: 0.06794494667925531\n",
      "Epoch 22, Validation Loss: 0.06038204437041154\n",
      "Epoch 23, Validation Loss: 0.060252198385289654\n",
      "Epoch 24, Validation Loss: 0.06358248780060631\n",
      "Epoch 25, Validation Loss: 0.06292168345176972\n",
      "Epoch 26, Validation Loss: 0.06266387048078916\n",
      "Epoch 27, Validation Loss: 0.061681864904060676\n",
      "Epoch 28, Validation Loss: 0.058782341822874375\n",
      "Epoch 29, Validation Loss: 0.05916480725416197\n",
      "Epoch 30, Validation Loss: 0.05904467829924005\n",
      "Epoch 31, Validation Loss: 0.05701122948084958\n",
      "Epoch 32, Validation Loss: 0.05678210777785772\n",
      "Epoch 33, Validation Loss: 0.06069203816206517\n",
      "Epoch 34, Validation Loss: 0.05833638691043374\n",
      "Epoch 35, Validation Loss: 0.060886409481799304\n",
      "Epoch 36, Validation Loss: 0.05711668227852967\n",
      "Epoch 37, Validation Loss: 0.06182696464496145\n",
      "Epoch 38, Validation Loss: 0.05757013989093069\n",
      "Epoch 39, Validation Loss: 0.056393348726067834\n",
      "Epoch 40, Validation Loss: 0.0600513292447431\n",
      "Epoch 41, Validation Loss: 0.06829129664290051\n",
      "Epoch 42, Validation Loss: 0.062308046387512986\n",
      "Epoch 43, Validation Loss: 0.055768700710569434\n",
      "Epoch 44, Validation Loss: 0.05563147523431466\n",
      "Epoch 45, Validation Loss: 0.06237108943661532\n",
      "Epoch 46, Validation Loss: 0.05813543734928736\n",
      "Epoch 47, Validation Loss: 0.05794153505569109\n",
      "Epoch 48, Validation Loss: 0.06292974418521716\n",
      "Epoch 49, Validation Loss: 0.06411586219977695\n",
      "Epoch 50, Validation Loss: 0.05854638515917871\n"
     ]
    }
   ],
   "source": [
    "X_train, X_test, y_train, y_test = train_test_split(x_geneformer, y_encoded, test_size=0.1, random_state=42)\n",
    "\n",
    "head_model_geneformer = deepcopy(head_model)\n",
    "head_model_geneformer = train_model(head_model_geneformer, \n",
    "                                    torch.tensor(X_train), \n",
    "                                    y_train, \n",
    "                                    torch.tensor(X_test), \n",
    "                                    y_test,\n",
    "                                    optim.Adam(head_model_geneformer.parameters(), lr=0.001),\n",
    "                                    nn.CrossEntropyLoss())"
   ]
  },
  {
   "cell_type": "code",
   "execution_count": 24,
   "metadata": {
    "colab": {
     "base_uri": "https://localhost:8080/",
     "height": 156,
     "referenced_widgets": [
      "042588def40e42848c464da311dfa395",
      "9f06f76e74ba4d4493a2b3810fa78501",
      "afde76acb7cd4642967e74fc01cc5e60",
      "bed90884638d44a1a0e8f2002485a49c",
      "577aff58497a41afb68c49c4e4a3483c",
      "e6639753498c44abbb25f2dd39f224a6",
      "0ae5dd4c69154c36ac6409002dbfdbe3",
      "98077a70b5aa4738b2f9ce21fc8a76f8",
      "6c0eae3868aa4ea98c7c1106aba4cb84",
      "08d07e9439494aa895b90bda386cd2d9",
      "c284a26712fc46a49f40081765203b11",
      "9e58f857ee8a43ac94614686ba82cf82",
      "21078359f8b64f1f9e5b70fbb559ac5e",
      "0536305995ae41b989c00348dec37a50",
      "da40c55164824b2e81fef416cea0bdf3",
      "45e0ffdc378040c8b8fb62172c321be5",
      "031f15e503284b6e989e599834bc0cfc",
      "d6a09da0033a4fff88ce7ad041ea5151",
      "44164c48e4774fd28c8e7514e26dfec3",
      "7fba8d16f48b451ba2695e7d8d0c605b",
      "8f571f239ad54eb19d35da67e47ddea9",
      "fb07aa128c734c1396a8d2e8e46dfd7e"
     ]
    },
    "id": "ycWcn3Ra1YbG",
    "outputId": "8e38e24d-261d-4d77-b704-a8d3c6df9b73"
   },
   "outputs": [
    {
     "name": "stderr",
     "output_type": "stream",
     "text": [
      "INFO:pyensembl.sequence_data:Loaded sequence dictionary from /home/benoit/.cache/pyensembl/GRCh38/ensembl110/Homo_sapiens.GRCh38.cdna.all.fa.gz.pickle\n",
      "INFO:pyensembl.sequence_data:Loaded sequence dictionary from /home/benoit/.cache/pyensembl/GRCh38/ensembl110/Homo_sapiens.GRCh38.ncrna.fa.gz.pickle\n",
      "INFO:pyensembl.sequence_data:Loaded sequence dictionary from /home/benoit/.cache/pyensembl/GRCh38/ensembl110/Homo_sapiens.GRCh38.pep.all.fa.gz.pickle\n",
      "INFO:helical.utils.mapping:Mapped 21111 genes to Ensembl IDs from a total of 37318 genes.\n",
      "INFO:helical.models.geneformer.geneformer_tokenizer:AnnData object with n_obs × n_vars = 7603 × 37318\n",
      "    obs: 'rows', 'size', 'LVL1', 'LVL2', 'LVL3', 'total_counts'\n",
      "    var: 'gene_name', 'id_in_vocab', 'ensembl_id', 'gene_ids_collapsed' has no column attribute 'filter_pass'; tokenizing all cells.\n",
      "INFO:helical.models.geneformer.geneformer_tokenizer:Creating dataset.\n",
      "Map: 100%|██████████| 7603/7603 [00:03<00:00, 2071.15 examples/s]\n",
      "INFO:helical.models.geneformer.model:Inference started:\n",
      "100%|██████████| 153/153 [02:21<00:00,  1.08it/s]\n"
     ]
    }
   ],
   "source": [
    "data_unseen_geneformer = geneformer.process_data(adata_unseen, gene_names = \"gene_name\")\n",
    "x_unseen_geneformer = geneformer.get_embeddings(data_unseen_geneformer)\n",
    "predictions_nn_unseen_geneformer = head_model_geneformer(torch.Tensor(x_unseen_geneformer))"
   ]
  },
  {
   "cell_type": "code",
   "execution_count": 25,
   "metadata": {
    "colab": {
     "base_uri": "https://localhost:8080/"
    },
    "id": "eR8jNVcrEMRR",
    "outputId": "5d4ff27a-3bbb-409d-db36-61f787dc1b0e"
   },
   "outputs": [
    {
     "name": "stdout",
     "output_type": "stream",
     "text": [
      "Evaluation set accuracy: 98.9%\n",
      "Evaluation set precision: 71.6%\n",
      "Evaluation set f1: 73.6%\n",
      "Evaluation set recall: 77.3%\n"
     ]
    }
   ],
   "source": [
    "y_true_unseen = np.array(adata_unseen.obs[\"LVL1\"].tolist())\n",
    "y_pred_unseen = [id2type[prediction] for prediction in np.array(torch.argmax(predictions_nn_unseen_geneformer, dim=1))]\n",
    "\n",
    "geneformer_results = get_evaluations(\"Evaluation set\", y_true_unseen, y_pred_unseen)"
   ]
  },
  {
   "cell_type": "code",
   "execution_count": 26,
   "metadata": {
    "colab": {
     "base_uri": "https://localhost:8080/",
     "height": 990
    },
    "id": "sK4UqSqQFSaS",
    "outputId": "b1d94806-ed84-4061-d50b-d6b567df66f4"
   },
   "outputs": [
    {
     "data": {
      "image/png": "[encoded data removed]",
      "text/plain": [
       "<Figure size 1000x1000 with 4 Axes>"
      ]
     },
     "metadata": {},
     "output_type": "display_data"
    }
   ],
   "source": [
    "import matplotlib.pyplot as plt\n",
    "\n",
    "fig, axs = plt.subplots(2, 2, figsize=(10, 10))\n",
    "\n",
    "values_1 = [scgpt_results[\"accuracy\"], geneformer_results[\"accuracy\"]]\n",
    "x = [\"scGPT\", \"Geneformer\"]\n",
    "axs[0, 0].bar(x, values_1, width=0.4)\n",
    "axs[0, 0].set_title(\"Accuracy\")\n",
    "axs[0, 0].set_ylim([0, 1])\n",
    "\n",
    "values_2 = [scgpt_results[\"precision\"], geneformer_results[\"precision\"]]\n",
    "axs[0, 1].bar(x, values_2, width=0.4)\n",
    "axs[0, 1].set_title(\"Precision\")\n",
    "axs[0, 1].set_ylim([0, 1])\n",
    "\n",
    "values_3 = [scgpt_results[\"f1\"], geneformer_results[\"f1\"]]\n",
    "axs[1, 0].bar(x, values_3, width=0.4)\n",
    "axs[1, 0].set_title(\"F1\")\n",
    "axs[1, 0].set_ylim([0, 1])\n",
    "\n",
    "values_4 = [scgpt_results[\"recall\"], geneformer_results[\"recall\"]]\n",
    "axs[1, 1].bar(x, values_4, width=0.4)\n",
    "axs[1, 1].set_title(\"Recall\")\n",
    "axs[1, 1].set_ylim([0, 1])\n",
    "\n",
    "fig.suptitle(\"scGPT vs. Geneformer \\n Probing Comparison\")\n",
    "fig.tight_layout()\n",
    "plt.show()\n"
   ]
  },
  {
   "cell_type": "markdown",
   "metadata": {
    "id": "W4yqDgBPMNhX"
   },
   "source": [
    "\n",
    "## scGPT\n",
    "- Accuracy: 99.2%\n",
    "- Precision: 90.8%\n",
    "- Recall: 79.1%\n",
    "- Macro F1: 80.7%\n",
    "\n",
    "## Geneformer\n",
    "- Accuracy: 98.9%\n",
    "- Precision: 71.6%\n",
    "- Recall: 73.6%\n",
    "- Macro F1: 77.3%"
   ]
  },
  {
   "cell_type": "markdown",
   "metadata": {},
   "source": [
    " (c) Helical 2024 - Developed by the Helical Team"
   ]
  }
 ],
 "metadata": {
  "kernelspec": {
   "display_name": "pythonenv",
   "language": "python",
   "name": "python3"
  },
  "language_info": {
   "codemirror_mode": {
    "name": "ipython",
    "version": 3
   },
   "file_extension": ".py",
   "mimetype": "text/x-python",
   "name": "python",
   "nbconvert_exporter": "python",
   "pygments_lexer": "ipython3",
   "version": "3.10.15"
  }
 },
 "nbformat": 4,
 "nbformat_minor": 0
}
